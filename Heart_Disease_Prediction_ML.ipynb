{
  "nbformat": 4,
  "nbformat_minor": 0,
  "metadata": {
    "colab": {
      "provenance": [],
      "gpuType": "T4",
      "include_colab_link": true
    },
    "kernelspec": {
      "name": "python3",
      "display_name": "Python 3"
    },
    "language_info": {
      "name": "python"
    },
    "accelerator": "GPU"
  },
  "cells": [
    {
      "cell_type": "markdown",
      "metadata": {
        "id": "view-in-github",
        "colab_type": "text"
      },
      "source": [
        "<a href=\"https://colab.research.google.com/github/sakshisahu612/Heart-Disease-Prediction-using-Machine-Learning/blob/main/Heart_Disease_Prediction_ML.ipynb\" target=\"_parent\"><img src=\"https://colab.research.google.com/assets/colab-badge.svg\" alt=\"Open In Colab\"/></a>"
      ]
    },
    {
      "cell_type": "markdown",
      "source": [
        "**Importing essential libraries**"
      ],
      "metadata": {
        "id": "QrrYLWrhLBvY"
      }
    },
    {
      "cell_type": "code",
      "execution_count": null,
      "metadata": {
        "colab": {
          "base_uri": "https://localhost:8080/"
        },
        "id": "QTRHBTFr5p7t",
        "outputId": "3f6200fa-de14-4384-8f6a-205add38eed7"
      },
      "outputs": [
        {
          "output_type": "stream",
          "name": "stdout",
          "text": [
            "['.config', 'heart.csv', 'sample_data']\n"
          ]
        }
      ],
      "source": [
        "import numpy as np\n",
        "import pandas as pd\n",
        "import matplotlib.pyplot as plt\n",
        "import seaborn as sns\n",
        "\n",
        "%matplotlib inline\n",
        "\n",
        "import os\n",
        "print(os.listdir())\n",
        "\n",
        "import warnings\n",
        "warnings.filterwarnings('ignore')"
      ]
    },
    {
      "cell_type": "markdown",
      "source": [
        "**Importing and understanding our dataset**"
      ],
      "metadata": {
        "id": "pyF-jAGNKzRx"
      }
    },
    {
      "cell_type": "code",
      "source": [
        "dataset = pd.read_csv(\"heart.csv\")"
      ],
      "metadata": {
        "id": "AkMgjvHc57YN"
      },
      "execution_count": null,
      "outputs": []
    },
    {
      "cell_type": "markdown",
      "source": [
        "Verifying it as a 'dataframe' object in pandas"
      ],
      "metadata": {
        "id": "z3TZOlQ1LLkI"
      }
    },
    {
      "cell_type": "code",
      "source": [
        "type(dataset)"
      ],
      "metadata": {
        "colab": {
          "base_uri": "https://localhost:8080/"
        },
        "id": "XRbcH11i575s",
        "outputId": "26fb8af1-f816-4264-ea8d-43b9f95ed1e4"
      },
      "execution_count": null,
      "outputs": [
        {
          "output_type": "execute_result",
          "data": {
            "text/plain": [
              "pandas.core.frame.DataFrame"
            ]
          },
          "metadata": {},
          "execution_count": 6
        }
      ]
    },
    {
      "cell_type": "markdown",
      "source": [
        "Shape of dataset"
      ],
      "metadata": {
        "id": "jl_y0r30MIbC"
      }
    },
    {
      "cell_type": "code",
      "source": [
        "dataset.shape"
      ],
      "metadata": {
        "colab": {
          "base_uri": "https://localhost:8080/"
        },
        "id": "lk2P8AyK6FXh",
        "outputId": "a71da789-c208-4b42-966e-58172963a40a"
      },
      "execution_count": null,
      "outputs": [
        {
          "output_type": "execute_result",
          "data": {
            "text/plain": [
              "(303, 14)"
            ]
          },
          "metadata": {},
          "execution_count": 7
        }
      ]
    },
    {
      "cell_type": "markdown",
      "source": [
        "Printing out a few columns"
      ],
      "metadata": {
        "id": "LDV8J2imML-G"
      }
    },
    {
      "cell_type": "code",
      "source": [
        "dataset.head(5)"
      ],
      "metadata": {
        "colab": {
          "base_uri": "https://localhost:8080/",
          "height": 206
        },
        "id": "6qiOrIzM6GYS",
        "outputId": "1d388221-de57-464c-e139-7c556632cc8c"
      },
      "execution_count": null,
      "outputs": [
        {
          "output_type": "execute_result",
          "data": {
            "text/plain": [
              "   age  sex  cp  trestbps  chol  fbs  restecg  thalach  exang  oldpeak  slope  \\\n",
              "0   63    1   3       145   233    1        0      150      0      2.3      0   \n",
              "1   37    1   2       130   250    0        1      187      0      3.5      0   \n",
              "2   41    0   1       130   204    0        0      172      0      1.4      2   \n",
              "3   56    1   1       120   236    0        1      178      0      0.8      2   \n",
              "4   57    0   0       120   354    0        1      163      1      0.6      2   \n",
              "\n",
              "   ca  thal  target  \n",
              "0   0     1       1  \n",
              "1   0     2       1  \n",
              "2   0     2       1  \n",
              "3   0     2       1  \n",
              "4   0     2       1  "
            ],
            "text/html": [
              "\n",
              "  <div id=\"df-77eaaf50-be11-4319-84ad-b0b0ec6f5ed5\" class=\"colab-df-container\">\n",
              "    <div>\n",
              "<style scoped>\n",
              "    .dataframe tbody tr th:only-of-type {\n",
              "        vertical-align: middle;\n",
              "    }\n",
              "\n",
              "    .dataframe tbody tr th {\n",
              "        vertical-align: top;\n",
              "    }\n",
              "\n",
              "    .dataframe thead th {\n",
              "        text-align: right;\n",
              "    }\n",
              "</style>\n",
              "<table border=\"1\" class=\"dataframe\">\n",
              "  <thead>\n",
              "    <tr style=\"text-align: right;\">\n",
              "      <th></th>\n",
              "      <th>age</th>\n",
              "      <th>sex</th>\n",
              "      <th>cp</th>\n",
              "      <th>trestbps</th>\n",
              "      <th>chol</th>\n",
              "      <th>fbs</th>\n",
              "      <th>restecg</th>\n",
              "      <th>thalach</th>\n",
              "      <th>exang</th>\n",
              "      <th>oldpeak</th>\n",
              "      <th>slope</th>\n",
              "      <th>ca</th>\n",
              "      <th>thal</th>\n",
              "      <th>target</th>\n",
              "    </tr>\n",
              "  </thead>\n",
              "  <tbody>\n",
              "    <tr>\n",
              "      <th>0</th>\n",
              "      <td>63</td>\n",
              "      <td>1</td>\n",
              "      <td>3</td>\n",
              "      <td>145</td>\n",
              "      <td>233</td>\n",
              "      <td>1</td>\n",
              "      <td>0</td>\n",
              "      <td>150</td>\n",
              "      <td>0</td>\n",
              "      <td>2.3</td>\n",
              "      <td>0</td>\n",
              "      <td>0</td>\n",
              "      <td>1</td>\n",
              "      <td>1</td>\n",
              "    </tr>\n",
              "    <tr>\n",
              "      <th>1</th>\n",
              "      <td>37</td>\n",
              "      <td>1</td>\n",
              "      <td>2</td>\n",
              "      <td>130</td>\n",
              "      <td>250</td>\n",
              "      <td>0</td>\n",
              "      <td>1</td>\n",
              "      <td>187</td>\n",
              "      <td>0</td>\n",
              "      <td>3.5</td>\n",
              "      <td>0</td>\n",
              "      <td>0</td>\n",
              "      <td>2</td>\n",
              "      <td>1</td>\n",
              "    </tr>\n",
              "    <tr>\n",
              "      <th>2</th>\n",
              "      <td>41</td>\n",
              "      <td>0</td>\n",
              "      <td>1</td>\n",
              "      <td>130</td>\n",
              "      <td>204</td>\n",
              "      <td>0</td>\n",
              "      <td>0</td>\n",
              "      <td>172</td>\n",
              "      <td>0</td>\n",
              "      <td>1.4</td>\n",
              "      <td>2</td>\n",
              "      <td>0</td>\n",
              "      <td>2</td>\n",
              "      <td>1</td>\n",
              "    </tr>\n",
              "    <tr>\n",
              "      <th>3</th>\n",
              "      <td>56</td>\n",
              "      <td>1</td>\n",
              "      <td>1</td>\n",
              "      <td>120</td>\n",
              "      <td>236</td>\n",
              "      <td>0</td>\n",
              "      <td>1</td>\n",
              "      <td>178</td>\n",
              "      <td>0</td>\n",
              "      <td>0.8</td>\n",
              "      <td>2</td>\n",
              "      <td>0</td>\n",
              "      <td>2</td>\n",
              "      <td>1</td>\n",
              "    </tr>\n",
              "    <tr>\n",
              "      <th>4</th>\n",
              "      <td>57</td>\n",
              "      <td>0</td>\n",
              "      <td>0</td>\n",
              "      <td>120</td>\n",
              "      <td>354</td>\n",
              "      <td>0</td>\n",
              "      <td>1</td>\n",
              "      <td>163</td>\n",
              "      <td>1</td>\n",
              "      <td>0.6</td>\n",
              "      <td>2</td>\n",
              "      <td>0</td>\n",
              "      <td>2</td>\n",
              "      <td>1</td>\n",
              "    </tr>\n",
              "  </tbody>\n",
              "</table>\n",
              "</div>\n",
              "    <div class=\"colab-df-buttons\">\n",
              "\n",
              "  <div class=\"colab-df-container\">\n",
              "    <button class=\"colab-df-convert\" onclick=\"convertToInteractive('df-77eaaf50-be11-4319-84ad-b0b0ec6f5ed5')\"\n",
              "            title=\"Convert this dataframe to an interactive table.\"\n",
              "            style=\"display:none;\">\n",
              "\n",
              "  <svg xmlns=\"http://www.w3.org/2000/svg\" height=\"24px\" viewBox=\"0 -960 960 960\">\n",
              "    <path d=\"M120-120v-720h720v720H120Zm60-500h600v-160H180v160Zm220 220h160v-160H400v160Zm0 220h160v-160H400v160ZM180-400h160v-160H180v160Zm440 0h160v-160H620v160ZM180-180h160v-160H180v160Zm440 0h160v-160H620v160Z\"/>\n",
              "  </svg>\n",
              "    </button>\n",
              "\n",
              "  <style>\n",
              "    .colab-df-container {\n",
              "      display:flex;\n",
              "      gap: 12px;\n",
              "    }\n",
              "\n",
              "    .colab-df-convert {\n",
              "      background-color: #E8F0FE;\n",
              "      border: none;\n",
              "      border-radius: 50%;\n",
              "      cursor: pointer;\n",
              "      display: none;\n",
              "      fill: #1967D2;\n",
              "      height: 32px;\n",
              "      padding: 0 0 0 0;\n",
              "      width: 32px;\n",
              "    }\n",
              "\n",
              "    .colab-df-convert:hover {\n",
              "      background-color: #E2EBFA;\n",
              "      box-shadow: 0px 1px 2px rgba(60, 64, 67, 0.3), 0px 1px 3px 1px rgba(60, 64, 67, 0.15);\n",
              "      fill: #174EA6;\n",
              "    }\n",
              "\n",
              "    .colab-df-buttons div {\n",
              "      margin-bottom: 4px;\n",
              "    }\n",
              "\n",
              "    [theme=dark] .colab-df-convert {\n",
              "      background-color: #3B4455;\n",
              "      fill: #D2E3FC;\n",
              "    }\n",
              "\n",
              "    [theme=dark] .colab-df-convert:hover {\n",
              "      background-color: #434B5C;\n",
              "      box-shadow: 0px 1px 3px 1px rgba(0, 0, 0, 0.15);\n",
              "      filter: drop-shadow(0px 1px 2px rgba(0, 0, 0, 0.3));\n",
              "      fill: #FFFFFF;\n",
              "    }\n",
              "  </style>\n",
              "\n",
              "    <script>\n",
              "      const buttonEl =\n",
              "        document.querySelector('#df-77eaaf50-be11-4319-84ad-b0b0ec6f5ed5 button.colab-df-convert');\n",
              "      buttonEl.style.display =\n",
              "        google.colab.kernel.accessAllowed ? 'block' : 'none';\n",
              "\n",
              "      async function convertToInteractive(key) {\n",
              "        const element = document.querySelector('#df-77eaaf50-be11-4319-84ad-b0b0ec6f5ed5');\n",
              "        const dataTable =\n",
              "          await google.colab.kernel.invokeFunction('convertToInteractive',\n",
              "                                                    [key], {});\n",
              "        if (!dataTable) return;\n",
              "\n",
              "        const docLinkHtml = 'Like what you see? Visit the ' +\n",
              "          '<a target=\"_blank\" href=https://colab.research.google.com/notebooks/data_table.ipynb>data table notebook</a>'\n",
              "          + ' to learn more about interactive tables.';\n",
              "        element.innerHTML = '';\n",
              "        dataTable['output_type'] = 'display_data';\n",
              "        await google.colab.output.renderOutput(dataTable, element);\n",
              "        const docLink = document.createElement('div');\n",
              "        docLink.innerHTML = docLinkHtml;\n",
              "        element.appendChild(docLink);\n",
              "      }\n",
              "    </script>\n",
              "  </div>\n",
              "\n",
              "\n",
              "<div id=\"df-8c8f1e97-c3a8-47c9-98ed-b0ea83931893\">\n",
              "  <button class=\"colab-df-quickchart\" onclick=\"quickchart('df-8c8f1e97-c3a8-47c9-98ed-b0ea83931893')\"\n",
              "            title=\"Suggest charts.\"\n",
              "            style=\"display:none;\">\n",
              "\n",
              "<svg xmlns=\"http://www.w3.org/2000/svg\" height=\"24px\"viewBox=\"0 0 24 24\"\n",
              "     width=\"24px\">\n",
              "    <g>\n",
              "        <path d=\"M19 3H5c-1.1 0-2 .9-2 2v14c0 1.1.9 2 2 2h14c1.1 0 2-.9 2-2V5c0-1.1-.9-2-2-2zM9 17H7v-7h2v7zm4 0h-2V7h2v10zm4 0h-2v-4h2v4z\"/>\n",
              "    </g>\n",
              "</svg>\n",
              "  </button>\n",
              "\n",
              "<style>\n",
              "  .colab-df-quickchart {\n",
              "      --bg-color: #E8F0FE;\n",
              "      --fill-color: #1967D2;\n",
              "      --hover-bg-color: #E2EBFA;\n",
              "      --hover-fill-color: #174EA6;\n",
              "      --disabled-fill-color: #AAA;\n",
              "      --disabled-bg-color: #DDD;\n",
              "  }\n",
              "\n",
              "  [theme=dark] .colab-df-quickchart {\n",
              "      --bg-color: #3B4455;\n",
              "      --fill-color: #D2E3FC;\n",
              "      --hover-bg-color: #434B5C;\n",
              "      --hover-fill-color: #FFFFFF;\n",
              "      --disabled-bg-color: #3B4455;\n",
              "      --disabled-fill-color: #666;\n",
              "  }\n",
              "\n",
              "  .colab-df-quickchart {\n",
              "    background-color: var(--bg-color);\n",
              "    border: none;\n",
              "    border-radius: 50%;\n",
              "    cursor: pointer;\n",
              "    display: none;\n",
              "    fill: var(--fill-color);\n",
              "    height: 32px;\n",
              "    padding: 0;\n",
              "    width: 32px;\n",
              "  }\n",
              "\n",
              "  .colab-df-quickchart:hover {\n",
              "    background-color: var(--hover-bg-color);\n",
              "    box-shadow: 0 1px 2px rgba(60, 64, 67, 0.3), 0 1px 3px 1px rgba(60, 64, 67, 0.15);\n",
              "    fill: var(--button-hover-fill-color);\n",
              "  }\n",
              "\n",
              "  .colab-df-quickchart-complete:disabled,\n",
              "  .colab-df-quickchart-complete:disabled:hover {\n",
              "    background-color: var(--disabled-bg-color);\n",
              "    fill: var(--disabled-fill-color);\n",
              "    box-shadow: none;\n",
              "  }\n",
              "\n",
              "  .colab-df-spinner {\n",
              "    border: 2px solid var(--fill-color);\n",
              "    border-color: transparent;\n",
              "    border-bottom-color: var(--fill-color);\n",
              "    animation:\n",
              "      spin 1s steps(1) infinite;\n",
              "  }\n",
              "\n",
              "  @keyframes spin {\n",
              "    0% {\n",
              "      border-color: transparent;\n",
              "      border-bottom-color: var(--fill-color);\n",
              "      border-left-color: var(--fill-color);\n",
              "    }\n",
              "    20% {\n",
              "      border-color: transparent;\n",
              "      border-left-color: var(--fill-color);\n",
              "      border-top-color: var(--fill-color);\n",
              "    }\n",
              "    30% {\n",
              "      border-color: transparent;\n",
              "      border-left-color: var(--fill-color);\n",
              "      border-top-color: var(--fill-color);\n",
              "      border-right-color: var(--fill-color);\n",
              "    }\n",
              "    40% {\n",
              "      border-color: transparent;\n",
              "      border-right-color: var(--fill-color);\n",
              "      border-top-color: var(--fill-color);\n",
              "    }\n",
              "    60% {\n",
              "      border-color: transparent;\n",
              "      border-right-color: var(--fill-color);\n",
              "    }\n",
              "    80% {\n",
              "      border-color: transparent;\n",
              "      border-right-color: var(--fill-color);\n",
              "      border-bottom-color: var(--fill-color);\n",
              "    }\n",
              "    90% {\n",
              "      border-color: transparent;\n",
              "      border-bottom-color: var(--fill-color);\n",
              "    }\n",
              "  }\n",
              "</style>\n",
              "\n",
              "  <script>\n",
              "    async function quickchart(key) {\n",
              "      const quickchartButtonEl =\n",
              "        document.querySelector('#' + key + ' button');\n",
              "      quickchartButtonEl.disabled = true;  // To prevent multiple clicks.\n",
              "      quickchartButtonEl.classList.add('colab-df-spinner');\n",
              "      try {\n",
              "        const charts = await google.colab.kernel.invokeFunction(\n",
              "            'suggestCharts', [key], {});\n",
              "      } catch (error) {\n",
              "        console.error('Error during call to suggestCharts:', error);\n",
              "      }\n",
              "      quickchartButtonEl.classList.remove('colab-df-spinner');\n",
              "      quickchartButtonEl.classList.add('colab-df-quickchart-complete');\n",
              "    }\n",
              "    (() => {\n",
              "      let quickchartButtonEl =\n",
              "        document.querySelector('#df-8c8f1e97-c3a8-47c9-98ed-b0ea83931893 button');\n",
              "      quickchartButtonEl.style.display =\n",
              "        google.colab.kernel.accessAllowed ? 'block' : 'none';\n",
              "    })();\n",
              "  </script>\n",
              "</div>\n",
              "    </div>\n",
              "  </div>\n"
            ]
          },
          "metadata": {},
          "execution_count": 8
        }
      ]
    },
    {
      "cell_type": "code",
      "source": [
        "dataset.sample(5)"
      ],
      "metadata": {
        "colab": {
          "base_uri": "https://localhost:8080/",
          "height": 206
        },
        "id": "KX7UVseh6Gz_",
        "outputId": "cbe27d7c-4162-4070-f568-6fa1fef7fdf8"
      },
      "execution_count": null,
      "outputs": [
        {
          "output_type": "execute_result",
          "data": {
            "text/plain": [
              "     age  sex  cp  trestbps  chol  fbs  restecg  thalach  exang  oldpeak  \\\n",
              "103   42    1   2       120   240    1        1      194      0      0.8   \n",
              "143   67    0   0       106   223    0        1      142      0      0.3   \n",
              "277   57    1   1       124   261    0        1      141      0      0.3   \n",
              "271   61    1   3       134   234    0        1      145      0      2.6   \n",
              "90    48    1   2       124   255    1        1      175      0      0.0   \n",
              "\n",
              "     slope  ca  thal  target  \n",
              "103      0   0     3       1  \n",
              "143      2   2     2       1  \n",
              "277      2   0     3       0  \n",
              "271      1   2     2       0  \n",
              "90       2   2     2       1  "
            ],
            "text/html": [
              "\n",
              "  <div id=\"df-8c83a27c-d819-4dc2-b24f-540b44d87c36\" class=\"colab-df-container\">\n",
              "    <div>\n",
              "<style scoped>\n",
              "    .dataframe tbody tr th:only-of-type {\n",
              "        vertical-align: middle;\n",
              "    }\n",
              "\n",
              "    .dataframe tbody tr th {\n",
              "        vertical-align: top;\n",
              "    }\n",
              "\n",
              "    .dataframe thead th {\n",
              "        text-align: right;\n",
              "    }\n",
              "</style>\n",
              "<table border=\"1\" class=\"dataframe\">\n",
              "  <thead>\n",
              "    <tr style=\"text-align: right;\">\n",
              "      <th></th>\n",
              "      <th>age</th>\n",
              "      <th>sex</th>\n",
              "      <th>cp</th>\n",
              "      <th>trestbps</th>\n",
              "      <th>chol</th>\n",
              "      <th>fbs</th>\n",
              "      <th>restecg</th>\n",
              "      <th>thalach</th>\n",
              "      <th>exang</th>\n",
              "      <th>oldpeak</th>\n",
              "      <th>slope</th>\n",
              "      <th>ca</th>\n",
              "      <th>thal</th>\n",
              "      <th>target</th>\n",
              "    </tr>\n",
              "  </thead>\n",
              "  <tbody>\n",
              "    <tr>\n",
              "      <th>103</th>\n",
              "      <td>42</td>\n",
              "      <td>1</td>\n",
              "      <td>2</td>\n",
              "      <td>120</td>\n",
              "      <td>240</td>\n",
              "      <td>1</td>\n",
              "      <td>1</td>\n",
              "      <td>194</td>\n",
              "      <td>0</td>\n",
              "      <td>0.8</td>\n",
              "      <td>0</td>\n",
              "      <td>0</td>\n",
              "      <td>3</td>\n",
              "      <td>1</td>\n",
              "    </tr>\n",
              "    <tr>\n",
              "      <th>143</th>\n",
              "      <td>67</td>\n",
              "      <td>0</td>\n",
              "      <td>0</td>\n",
              "      <td>106</td>\n",
              "      <td>223</td>\n",
              "      <td>0</td>\n",
              "      <td>1</td>\n",
              "      <td>142</td>\n",
              "      <td>0</td>\n",
              "      <td>0.3</td>\n",
              "      <td>2</td>\n",
              "      <td>2</td>\n",
              "      <td>2</td>\n",
              "      <td>1</td>\n",
              "    </tr>\n",
              "    <tr>\n",
              "      <th>277</th>\n",
              "      <td>57</td>\n",
              "      <td>1</td>\n",
              "      <td>1</td>\n",
              "      <td>124</td>\n",
              "      <td>261</td>\n",
              "      <td>0</td>\n",
              "      <td>1</td>\n",
              "      <td>141</td>\n",
              "      <td>0</td>\n",
              "      <td>0.3</td>\n",
              "      <td>2</td>\n",
              "      <td>0</td>\n",
              "      <td>3</td>\n",
              "      <td>0</td>\n",
              "    </tr>\n",
              "    <tr>\n",
              "      <th>271</th>\n",
              "      <td>61</td>\n",
              "      <td>1</td>\n",
              "      <td>3</td>\n",
              "      <td>134</td>\n",
              "      <td>234</td>\n",
              "      <td>0</td>\n",
              "      <td>1</td>\n",
              "      <td>145</td>\n",
              "      <td>0</td>\n",
              "      <td>2.6</td>\n",
              "      <td>1</td>\n",
              "      <td>2</td>\n",
              "      <td>2</td>\n",
              "      <td>0</td>\n",
              "    </tr>\n",
              "    <tr>\n",
              "      <th>90</th>\n",
              "      <td>48</td>\n",
              "      <td>1</td>\n",
              "      <td>2</td>\n",
              "      <td>124</td>\n",
              "      <td>255</td>\n",
              "      <td>1</td>\n",
              "      <td>1</td>\n",
              "      <td>175</td>\n",
              "      <td>0</td>\n",
              "      <td>0.0</td>\n",
              "      <td>2</td>\n",
              "      <td>2</td>\n",
              "      <td>2</td>\n",
              "      <td>1</td>\n",
              "    </tr>\n",
              "  </tbody>\n",
              "</table>\n",
              "</div>\n",
              "    <div class=\"colab-df-buttons\">\n",
              "\n",
              "  <div class=\"colab-df-container\">\n",
              "    <button class=\"colab-df-convert\" onclick=\"convertToInteractive('df-8c83a27c-d819-4dc2-b24f-540b44d87c36')\"\n",
              "            title=\"Convert this dataframe to an interactive table.\"\n",
              "            style=\"display:none;\">\n",
              "\n",
              "  <svg xmlns=\"http://www.w3.org/2000/svg\" height=\"24px\" viewBox=\"0 -960 960 960\">\n",
              "    <path d=\"M120-120v-720h720v720H120Zm60-500h600v-160H180v160Zm220 220h160v-160H400v160Zm0 220h160v-160H400v160ZM180-400h160v-160H180v160Zm440 0h160v-160H620v160ZM180-180h160v-160H180v160Zm440 0h160v-160H620v160Z\"/>\n",
              "  </svg>\n",
              "    </button>\n",
              "\n",
              "  <style>\n",
              "    .colab-df-container {\n",
              "      display:flex;\n",
              "      gap: 12px;\n",
              "    }\n",
              "\n",
              "    .colab-df-convert {\n",
              "      background-color: #E8F0FE;\n",
              "      border: none;\n",
              "      border-radius: 50%;\n",
              "      cursor: pointer;\n",
              "      display: none;\n",
              "      fill: #1967D2;\n",
              "      height: 32px;\n",
              "      padding: 0 0 0 0;\n",
              "      width: 32px;\n",
              "    }\n",
              "\n",
              "    .colab-df-convert:hover {\n",
              "      background-color: #E2EBFA;\n",
              "      box-shadow: 0px 1px 2px rgba(60, 64, 67, 0.3), 0px 1px 3px 1px rgba(60, 64, 67, 0.15);\n",
              "      fill: #174EA6;\n",
              "    }\n",
              "\n",
              "    .colab-df-buttons div {\n",
              "      margin-bottom: 4px;\n",
              "    }\n",
              "\n",
              "    [theme=dark] .colab-df-convert {\n",
              "      background-color: #3B4455;\n",
              "      fill: #D2E3FC;\n",
              "    }\n",
              "\n",
              "    [theme=dark] .colab-df-convert:hover {\n",
              "      background-color: #434B5C;\n",
              "      box-shadow: 0px 1px 3px 1px rgba(0, 0, 0, 0.15);\n",
              "      filter: drop-shadow(0px 1px 2px rgba(0, 0, 0, 0.3));\n",
              "      fill: #FFFFFF;\n",
              "    }\n",
              "  </style>\n",
              "\n",
              "    <script>\n",
              "      const buttonEl =\n",
              "        document.querySelector('#df-8c83a27c-d819-4dc2-b24f-540b44d87c36 button.colab-df-convert');\n",
              "      buttonEl.style.display =\n",
              "        google.colab.kernel.accessAllowed ? 'block' : 'none';\n",
              "\n",
              "      async function convertToInteractive(key) {\n",
              "        const element = document.querySelector('#df-8c83a27c-d819-4dc2-b24f-540b44d87c36');\n",
              "        const dataTable =\n",
              "          await google.colab.kernel.invokeFunction('convertToInteractive',\n",
              "                                                    [key], {});\n",
              "        if (!dataTable) return;\n",
              "\n",
              "        const docLinkHtml = 'Like what you see? Visit the ' +\n",
              "          '<a target=\"_blank\" href=https://colab.research.google.com/notebooks/data_table.ipynb>data table notebook</a>'\n",
              "          + ' to learn more about interactive tables.';\n",
              "        element.innerHTML = '';\n",
              "        dataTable['output_type'] = 'display_data';\n",
              "        await google.colab.output.renderOutput(dataTable, element);\n",
              "        const docLink = document.createElement('div');\n",
              "        docLink.innerHTML = docLinkHtml;\n",
              "        element.appendChild(docLink);\n",
              "      }\n",
              "    </script>\n",
              "  </div>\n",
              "\n",
              "\n",
              "<div id=\"df-811d3caa-0bf6-49e6-a1d5-9d5fe88079cc\">\n",
              "  <button class=\"colab-df-quickchart\" onclick=\"quickchart('df-811d3caa-0bf6-49e6-a1d5-9d5fe88079cc')\"\n",
              "            title=\"Suggest charts.\"\n",
              "            style=\"display:none;\">\n",
              "\n",
              "<svg xmlns=\"http://www.w3.org/2000/svg\" height=\"24px\"viewBox=\"0 0 24 24\"\n",
              "     width=\"24px\">\n",
              "    <g>\n",
              "        <path d=\"M19 3H5c-1.1 0-2 .9-2 2v14c0 1.1.9 2 2 2h14c1.1 0 2-.9 2-2V5c0-1.1-.9-2-2-2zM9 17H7v-7h2v7zm4 0h-2V7h2v10zm4 0h-2v-4h2v4z\"/>\n",
              "    </g>\n",
              "</svg>\n",
              "  </button>\n",
              "\n",
              "<style>\n",
              "  .colab-df-quickchart {\n",
              "      --bg-color: #E8F0FE;\n",
              "      --fill-color: #1967D2;\n",
              "      --hover-bg-color: #E2EBFA;\n",
              "      --hover-fill-color: #174EA6;\n",
              "      --disabled-fill-color: #AAA;\n",
              "      --disabled-bg-color: #DDD;\n",
              "  }\n",
              "\n",
              "  [theme=dark] .colab-df-quickchart {\n",
              "      --bg-color: #3B4455;\n",
              "      --fill-color: #D2E3FC;\n",
              "      --hover-bg-color: #434B5C;\n",
              "      --hover-fill-color: #FFFFFF;\n",
              "      --disabled-bg-color: #3B4455;\n",
              "      --disabled-fill-color: #666;\n",
              "  }\n",
              "\n",
              "  .colab-df-quickchart {\n",
              "    background-color: var(--bg-color);\n",
              "    border: none;\n",
              "    border-radius: 50%;\n",
              "    cursor: pointer;\n",
              "    display: none;\n",
              "    fill: var(--fill-color);\n",
              "    height: 32px;\n",
              "    padding: 0;\n",
              "    width: 32px;\n",
              "  }\n",
              "\n",
              "  .colab-df-quickchart:hover {\n",
              "    background-color: var(--hover-bg-color);\n",
              "    box-shadow: 0 1px 2px rgba(60, 64, 67, 0.3), 0 1px 3px 1px rgba(60, 64, 67, 0.15);\n",
              "    fill: var(--button-hover-fill-color);\n",
              "  }\n",
              "\n",
              "  .colab-df-quickchart-complete:disabled,\n",
              "  .colab-df-quickchart-complete:disabled:hover {\n",
              "    background-color: var(--disabled-bg-color);\n",
              "    fill: var(--disabled-fill-color);\n",
              "    box-shadow: none;\n",
              "  }\n",
              "\n",
              "  .colab-df-spinner {\n",
              "    border: 2px solid var(--fill-color);\n",
              "    border-color: transparent;\n",
              "    border-bottom-color: var(--fill-color);\n",
              "    animation:\n",
              "      spin 1s steps(1) infinite;\n",
              "  }\n",
              "\n",
              "  @keyframes spin {\n",
              "    0% {\n",
              "      border-color: transparent;\n",
              "      border-bottom-color: var(--fill-color);\n",
              "      border-left-color: var(--fill-color);\n",
              "    }\n",
              "    20% {\n",
              "      border-color: transparent;\n",
              "      border-left-color: var(--fill-color);\n",
              "      border-top-color: var(--fill-color);\n",
              "    }\n",
              "    30% {\n",
              "      border-color: transparent;\n",
              "      border-left-color: var(--fill-color);\n",
              "      border-top-color: var(--fill-color);\n",
              "      border-right-color: var(--fill-color);\n",
              "    }\n",
              "    40% {\n",
              "      border-color: transparent;\n",
              "      border-right-color: var(--fill-color);\n",
              "      border-top-color: var(--fill-color);\n",
              "    }\n",
              "    60% {\n",
              "      border-color: transparent;\n",
              "      border-right-color: var(--fill-color);\n",
              "    }\n",
              "    80% {\n",
              "      border-color: transparent;\n",
              "      border-right-color: var(--fill-color);\n",
              "      border-bottom-color: var(--fill-color);\n",
              "    }\n",
              "    90% {\n",
              "      border-color: transparent;\n",
              "      border-bottom-color: var(--fill-color);\n",
              "    }\n",
              "  }\n",
              "</style>\n",
              "\n",
              "  <script>\n",
              "    async function quickchart(key) {\n",
              "      const quickchartButtonEl =\n",
              "        document.querySelector('#' + key + ' button');\n",
              "      quickchartButtonEl.disabled = true;  // To prevent multiple clicks.\n",
              "      quickchartButtonEl.classList.add('colab-df-spinner');\n",
              "      try {\n",
              "        const charts = await google.colab.kernel.invokeFunction(\n",
              "            'suggestCharts', [key], {});\n",
              "      } catch (error) {\n",
              "        console.error('Error during call to suggestCharts:', error);\n",
              "      }\n",
              "      quickchartButtonEl.classList.remove('colab-df-spinner');\n",
              "      quickchartButtonEl.classList.add('colab-df-quickchart-complete');\n",
              "    }\n",
              "    (() => {\n",
              "      let quickchartButtonEl =\n",
              "        document.querySelector('#df-811d3caa-0bf6-49e6-a1d5-9d5fe88079cc button');\n",
              "      quickchartButtonEl.style.display =\n",
              "        google.colab.kernel.accessAllowed ? 'block' : 'none';\n",
              "    })();\n",
              "  </script>\n",
              "</div>\n",
              "    </div>\n",
              "  </div>\n"
            ]
          },
          "metadata": {},
          "execution_count": 9
        }
      ]
    },
    {
      "cell_type": "markdown",
      "source": [
        "Description"
      ],
      "metadata": {
        "id": "zpkOE4L_MUIM"
      }
    },
    {
      "cell_type": "code",
      "source": [
        "dataset.describe()"
      ],
      "metadata": {
        "colab": {
          "base_uri": "https://localhost:8080/",
          "height": 320
        },
        "id": "MsG4qvJX6HJM",
        "outputId": "1bb35ad5-ef7e-4f6e-ab85-2dc8d962ae3c"
      },
      "execution_count": null,
      "outputs": [
        {
          "output_type": "execute_result",
          "data": {
            "text/plain": [
              "              age         sex          cp    trestbps        chol         fbs  \\\n",
              "count  303.000000  303.000000  303.000000  303.000000  303.000000  303.000000   \n",
              "mean    54.366337    0.683168    0.966997  131.623762  246.264026    0.148515   \n",
              "std      9.082101    0.466011    1.032052   17.538143   51.830751    0.356198   \n",
              "min     29.000000    0.000000    0.000000   94.000000  126.000000    0.000000   \n",
              "25%     47.500000    0.000000    0.000000  120.000000  211.000000    0.000000   \n",
              "50%     55.000000    1.000000    1.000000  130.000000  240.000000    0.000000   \n",
              "75%     61.000000    1.000000    2.000000  140.000000  274.500000    0.000000   \n",
              "max     77.000000    1.000000    3.000000  200.000000  564.000000    1.000000   \n",
              "\n",
              "          restecg     thalach       exang     oldpeak       slope          ca  \\\n",
              "count  303.000000  303.000000  303.000000  303.000000  303.000000  303.000000   \n",
              "mean     0.528053  149.646865    0.326733    1.039604    1.399340    0.729373   \n",
              "std      0.525860   22.905161    0.469794    1.161075    0.616226    1.022606   \n",
              "min      0.000000   71.000000    0.000000    0.000000    0.000000    0.000000   \n",
              "25%      0.000000  133.500000    0.000000    0.000000    1.000000    0.000000   \n",
              "50%      1.000000  153.000000    0.000000    0.800000    1.000000    0.000000   \n",
              "75%      1.000000  166.000000    1.000000    1.600000    2.000000    1.000000   \n",
              "max      2.000000  202.000000    1.000000    6.200000    2.000000    4.000000   \n",
              "\n",
              "             thal      target  \n",
              "count  303.000000  303.000000  \n",
              "mean     2.313531    0.544554  \n",
              "std      0.612277    0.498835  \n",
              "min      0.000000    0.000000  \n",
              "25%      2.000000    0.000000  \n",
              "50%      2.000000    1.000000  \n",
              "75%      3.000000    1.000000  \n",
              "max      3.000000    1.000000  "
            ],
            "text/html": [
              "\n",
              "  <div id=\"df-5a2a2b14-0407-429a-a0c0-0d96aec953da\" class=\"colab-df-container\">\n",
              "    <div>\n",
              "<style scoped>\n",
              "    .dataframe tbody tr th:only-of-type {\n",
              "        vertical-align: middle;\n",
              "    }\n",
              "\n",
              "    .dataframe tbody tr th {\n",
              "        vertical-align: top;\n",
              "    }\n",
              "\n",
              "    .dataframe thead th {\n",
              "        text-align: right;\n",
              "    }\n",
              "</style>\n",
              "<table border=\"1\" class=\"dataframe\">\n",
              "  <thead>\n",
              "    <tr style=\"text-align: right;\">\n",
              "      <th></th>\n",
              "      <th>age</th>\n",
              "      <th>sex</th>\n",
              "      <th>cp</th>\n",
              "      <th>trestbps</th>\n",
              "      <th>chol</th>\n",
              "      <th>fbs</th>\n",
              "      <th>restecg</th>\n",
              "      <th>thalach</th>\n",
              "      <th>exang</th>\n",
              "      <th>oldpeak</th>\n",
              "      <th>slope</th>\n",
              "      <th>ca</th>\n",
              "      <th>thal</th>\n",
              "      <th>target</th>\n",
              "    </tr>\n",
              "  </thead>\n",
              "  <tbody>\n",
              "    <tr>\n",
              "      <th>count</th>\n",
              "      <td>303.000000</td>\n",
              "      <td>303.000000</td>\n",
              "      <td>303.000000</td>\n",
              "      <td>303.000000</td>\n",
              "      <td>303.000000</td>\n",
              "      <td>303.000000</td>\n",
              "      <td>303.000000</td>\n",
              "      <td>303.000000</td>\n",
              "      <td>303.000000</td>\n",
              "      <td>303.000000</td>\n",
              "      <td>303.000000</td>\n",
              "      <td>303.000000</td>\n",
              "      <td>303.000000</td>\n",
              "      <td>303.000000</td>\n",
              "    </tr>\n",
              "    <tr>\n",
              "      <th>mean</th>\n",
              "      <td>54.366337</td>\n",
              "      <td>0.683168</td>\n",
              "      <td>0.966997</td>\n",
              "      <td>131.623762</td>\n",
              "      <td>246.264026</td>\n",
              "      <td>0.148515</td>\n",
              "      <td>0.528053</td>\n",
              "      <td>149.646865</td>\n",
              "      <td>0.326733</td>\n",
              "      <td>1.039604</td>\n",
              "      <td>1.399340</td>\n",
              "      <td>0.729373</td>\n",
              "      <td>2.313531</td>\n",
              "      <td>0.544554</td>\n",
              "    </tr>\n",
              "    <tr>\n",
              "      <th>std</th>\n",
              "      <td>9.082101</td>\n",
              "      <td>0.466011</td>\n",
              "      <td>1.032052</td>\n",
              "      <td>17.538143</td>\n",
              "      <td>51.830751</td>\n",
              "      <td>0.356198</td>\n",
              "      <td>0.525860</td>\n",
              "      <td>22.905161</td>\n",
              "      <td>0.469794</td>\n",
              "      <td>1.161075</td>\n",
              "      <td>0.616226</td>\n",
              "      <td>1.022606</td>\n",
              "      <td>0.612277</td>\n",
              "      <td>0.498835</td>\n",
              "    </tr>\n",
              "    <tr>\n",
              "      <th>min</th>\n",
              "      <td>29.000000</td>\n",
              "      <td>0.000000</td>\n",
              "      <td>0.000000</td>\n",
              "      <td>94.000000</td>\n",
              "      <td>126.000000</td>\n",
              "      <td>0.000000</td>\n",
              "      <td>0.000000</td>\n",
              "      <td>71.000000</td>\n",
              "      <td>0.000000</td>\n",
              "      <td>0.000000</td>\n",
              "      <td>0.000000</td>\n",
              "      <td>0.000000</td>\n",
              "      <td>0.000000</td>\n",
              "      <td>0.000000</td>\n",
              "    </tr>\n",
              "    <tr>\n",
              "      <th>25%</th>\n",
              "      <td>47.500000</td>\n",
              "      <td>0.000000</td>\n",
              "      <td>0.000000</td>\n",
              "      <td>120.000000</td>\n",
              "      <td>211.000000</td>\n",
              "      <td>0.000000</td>\n",
              "      <td>0.000000</td>\n",
              "      <td>133.500000</td>\n",
              "      <td>0.000000</td>\n",
              "      <td>0.000000</td>\n",
              "      <td>1.000000</td>\n",
              "      <td>0.000000</td>\n",
              "      <td>2.000000</td>\n",
              "      <td>0.000000</td>\n",
              "    </tr>\n",
              "    <tr>\n",
              "      <th>50%</th>\n",
              "      <td>55.000000</td>\n",
              "      <td>1.000000</td>\n",
              "      <td>1.000000</td>\n",
              "      <td>130.000000</td>\n",
              "      <td>240.000000</td>\n",
              "      <td>0.000000</td>\n",
              "      <td>1.000000</td>\n",
              "      <td>153.000000</td>\n",
              "      <td>0.000000</td>\n",
              "      <td>0.800000</td>\n",
              "      <td>1.000000</td>\n",
              "      <td>0.000000</td>\n",
              "      <td>2.000000</td>\n",
              "      <td>1.000000</td>\n",
              "    </tr>\n",
              "    <tr>\n",
              "      <th>75%</th>\n",
              "      <td>61.000000</td>\n",
              "      <td>1.000000</td>\n",
              "      <td>2.000000</td>\n",
              "      <td>140.000000</td>\n",
              "      <td>274.500000</td>\n",
              "      <td>0.000000</td>\n",
              "      <td>1.000000</td>\n",
              "      <td>166.000000</td>\n",
              "      <td>1.000000</td>\n",
              "      <td>1.600000</td>\n",
              "      <td>2.000000</td>\n",
              "      <td>1.000000</td>\n",
              "      <td>3.000000</td>\n",
              "      <td>1.000000</td>\n",
              "    </tr>\n",
              "    <tr>\n",
              "      <th>max</th>\n",
              "      <td>77.000000</td>\n",
              "      <td>1.000000</td>\n",
              "      <td>3.000000</td>\n",
              "      <td>200.000000</td>\n",
              "      <td>564.000000</td>\n",
              "      <td>1.000000</td>\n",
              "      <td>2.000000</td>\n",
              "      <td>202.000000</td>\n",
              "      <td>1.000000</td>\n",
              "      <td>6.200000</td>\n",
              "      <td>2.000000</td>\n",
              "      <td>4.000000</td>\n",
              "      <td>3.000000</td>\n",
              "      <td>1.000000</td>\n",
              "    </tr>\n",
              "  </tbody>\n",
              "</table>\n",
              "</div>\n",
              "    <div class=\"colab-df-buttons\">\n",
              "\n",
              "  <div class=\"colab-df-container\">\n",
              "    <button class=\"colab-df-convert\" onclick=\"convertToInteractive('df-5a2a2b14-0407-429a-a0c0-0d96aec953da')\"\n",
              "            title=\"Convert this dataframe to an interactive table.\"\n",
              "            style=\"display:none;\">\n",
              "\n",
              "  <svg xmlns=\"http://www.w3.org/2000/svg\" height=\"24px\" viewBox=\"0 -960 960 960\">\n",
              "    <path d=\"M120-120v-720h720v720H120Zm60-500h600v-160H180v160Zm220 220h160v-160H400v160Zm0 220h160v-160H400v160ZM180-400h160v-160H180v160Zm440 0h160v-160H620v160ZM180-180h160v-160H180v160Zm440 0h160v-160H620v160Z\"/>\n",
              "  </svg>\n",
              "    </button>\n",
              "\n",
              "  <style>\n",
              "    .colab-df-container {\n",
              "      display:flex;\n",
              "      gap: 12px;\n",
              "    }\n",
              "\n",
              "    .colab-df-convert {\n",
              "      background-color: #E8F0FE;\n",
              "      border: none;\n",
              "      border-radius: 50%;\n",
              "      cursor: pointer;\n",
              "      display: none;\n",
              "      fill: #1967D2;\n",
              "      height: 32px;\n",
              "      padding: 0 0 0 0;\n",
              "      width: 32px;\n",
              "    }\n",
              "\n",
              "    .colab-df-convert:hover {\n",
              "      background-color: #E2EBFA;\n",
              "      box-shadow: 0px 1px 2px rgba(60, 64, 67, 0.3), 0px 1px 3px 1px rgba(60, 64, 67, 0.15);\n",
              "      fill: #174EA6;\n",
              "    }\n",
              "\n",
              "    .colab-df-buttons div {\n",
              "      margin-bottom: 4px;\n",
              "    }\n",
              "\n",
              "    [theme=dark] .colab-df-convert {\n",
              "      background-color: #3B4455;\n",
              "      fill: #D2E3FC;\n",
              "    }\n",
              "\n",
              "    [theme=dark] .colab-df-convert:hover {\n",
              "      background-color: #434B5C;\n",
              "      box-shadow: 0px 1px 3px 1px rgba(0, 0, 0, 0.15);\n",
              "      filter: drop-shadow(0px 1px 2px rgba(0, 0, 0, 0.3));\n",
              "      fill: #FFFFFF;\n",
              "    }\n",
              "  </style>\n",
              "\n",
              "    <script>\n",
              "      const buttonEl =\n",
              "        document.querySelector('#df-5a2a2b14-0407-429a-a0c0-0d96aec953da button.colab-df-convert');\n",
              "      buttonEl.style.display =\n",
              "        google.colab.kernel.accessAllowed ? 'block' : 'none';\n",
              "\n",
              "      async function convertToInteractive(key) {\n",
              "        const element = document.querySelector('#df-5a2a2b14-0407-429a-a0c0-0d96aec953da');\n",
              "        const dataTable =\n",
              "          await google.colab.kernel.invokeFunction('convertToInteractive',\n",
              "                                                    [key], {});\n",
              "        if (!dataTable) return;\n",
              "\n",
              "        const docLinkHtml = 'Like what you see? Visit the ' +\n",
              "          '<a target=\"_blank\" href=https://colab.research.google.com/notebooks/data_table.ipynb>data table notebook</a>'\n",
              "          + ' to learn more about interactive tables.';\n",
              "        element.innerHTML = '';\n",
              "        dataTable['output_type'] = 'display_data';\n",
              "        await google.colab.output.renderOutput(dataTable, element);\n",
              "        const docLink = document.createElement('div');\n",
              "        docLink.innerHTML = docLinkHtml;\n",
              "        element.appendChild(docLink);\n",
              "      }\n",
              "    </script>\n",
              "  </div>\n",
              "\n",
              "\n",
              "<div id=\"df-163e9c65-baa1-4b6c-9157-8af879612a41\">\n",
              "  <button class=\"colab-df-quickchart\" onclick=\"quickchart('df-163e9c65-baa1-4b6c-9157-8af879612a41')\"\n",
              "            title=\"Suggest charts.\"\n",
              "            style=\"display:none;\">\n",
              "\n",
              "<svg xmlns=\"http://www.w3.org/2000/svg\" height=\"24px\"viewBox=\"0 0 24 24\"\n",
              "     width=\"24px\">\n",
              "    <g>\n",
              "        <path d=\"M19 3H5c-1.1 0-2 .9-2 2v14c0 1.1.9 2 2 2h14c1.1 0 2-.9 2-2V5c0-1.1-.9-2-2-2zM9 17H7v-7h2v7zm4 0h-2V7h2v10zm4 0h-2v-4h2v4z\"/>\n",
              "    </g>\n",
              "</svg>\n",
              "  </button>\n",
              "\n",
              "<style>\n",
              "  .colab-df-quickchart {\n",
              "      --bg-color: #E8F0FE;\n",
              "      --fill-color: #1967D2;\n",
              "      --hover-bg-color: #E2EBFA;\n",
              "      --hover-fill-color: #174EA6;\n",
              "      --disabled-fill-color: #AAA;\n",
              "      --disabled-bg-color: #DDD;\n",
              "  }\n",
              "\n",
              "  [theme=dark] .colab-df-quickchart {\n",
              "      --bg-color: #3B4455;\n",
              "      --fill-color: #D2E3FC;\n",
              "      --hover-bg-color: #434B5C;\n",
              "      --hover-fill-color: #FFFFFF;\n",
              "      --disabled-bg-color: #3B4455;\n",
              "      --disabled-fill-color: #666;\n",
              "  }\n",
              "\n",
              "  .colab-df-quickchart {\n",
              "    background-color: var(--bg-color);\n",
              "    border: none;\n",
              "    border-radius: 50%;\n",
              "    cursor: pointer;\n",
              "    display: none;\n",
              "    fill: var(--fill-color);\n",
              "    height: 32px;\n",
              "    padding: 0;\n",
              "    width: 32px;\n",
              "  }\n",
              "\n",
              "  .colab-df-quickchart:hover {\n",
              "    background-color: var(--hover-bg-color);\n",
              "    box-shadow: 0 1px 2px rgba(60, 64, 67, 0.3), 0 1px 3px 1px rgba(60, 64, 67, 0.15);\n",
              "    fill: var(--button-hover-fill-color);\n",
              "  }\n",
              "\n",
              "  .colab-df-quickchart-complete:disabled,\n",
              "  .colab-df-quickchart-complete:disabled:hover {\n",
              "    background-color: var(--disabled-bg-color);\n",
              "    fill: var(--disabled-fill-color);\n",
              "    box-shadow: none;\n",
              "  }\n",
              "\n",
              "  .colab-df-spinner {\n",
              "    border: 2px solid var(--fill-color);\n",
              "    border-color: transparent;\n",
              "    border-bottom-color: var(--fill-color);\n",
              "    animation:\n",
              "      spin 1s steps(1) infinite;\n",
              "  }\n",
              "\n",
              "  @keyframes spin {\n",
              "    0% {\n",
              "      border-color: transparent;\n",
              "      border-bottom-color: var(--fill-color);\n",
              "      border-left-color: var(--fill-color);\n",
              "    }\n",
              "    20% {\n",
              "      border-color: transparent;\n",
              "      border-left-color: var(--fill-color);\n",
              "      border-top-color: var(--fill-color);\n",
              "    }\n",
              "    30% {\n",
              "      border-color: transparent;\n",
              "      border-left-color: var(--fill-color);\n",
              "      border-top-color: var(--fill-color);\n",
              "      border-right-color: var(--fill-color);\n",
              "    }\n",
              "    40% {\n",
              "      border-color: transparent;\n",
              "      border-right-color: var(--fill-color);\n",
              "      border-top-color: var(--fill-color);\n",
              "    }\n",
              "    60% {\n",
              "      border-color: transparent;\n",
              "      border-right-color: var(--fill-color);\n",
              "    }\n",
              "    80% {\n",
              "      border-color: transparent;\n",
              "      border-right-color: var(--fill-color);\n",
              "      border-bottom-color: var(--fill-color);\n",
              "    }\n",
              "    90% {\n",
              "      border-color: transparent;\n",
              "      border-bottom-color: var(--fill-color);\n",
              "    }\n",
              "  }\n",
              "</style>\n",
              "\n",
              "  <script>\n",
              "    async function quickchart(key) {\n",
              "      const quickchartButtonEl =\n",
              "        document.querySelector('#' + key + ' button');\n",
              "      quickchartButtonEl.disabled = true;  // To prevent multiple clicks.\n",
              "      quickchartButtonEl.classList.add('colab-df-spinner');\n",
              "      try {\n",
              "        const charts = await google.colab.kernel.invokeFunction(\n",
              "            'suggestCharts', [key], {});\n",
              "      } catch (error) {\n",
              "        console.error('Error during call to suggestCharts:', error);\n",
              "      }\n",
              "      quickchartButtonEl.classList.remove('colab-df-spinner');\n",
              "      quickchartButtonEl.classList.add('colab-df-quickchart-complete');\n",
              "    }\n",
              "    (() => {\n",
              "      let quickchartButtonEl =\n",
              "        document.querySelector('#df-163e9c65-baa1-4b6c-9157-8af879612a41 button');\n",
              "      quickchartButtonEl.style.display =\n",
              "        google.colab.kernel.accessAllowed ? 'block' : 'none';\n",
              "    })();\n",
              "  </script>\n",
              "</div>\n",
              "    </div>\n",
              "  </div>\n"
            ]
          },
          "metadata": {},
          "execution_count": 10
        }
      ]
    },
    {
      "cell_type": "code",
      "source": [
        "dataset.info()"
      ],
      "metadata": {
        "colab": {
          "base_uri": "https://localhost:8080/"
        },
        "id": "DrlGWbpe6HfZ",
        "outputId": "33554c2e-fdfc-4273-b50c-b3a9f1de6410"
      },
      "execution_count": null,
      "outputs": [
        {
          "output_type": "stream",
          "name": "stdout",
          "text": [
            "<class 'pandas.core.frame.DataFrame'>\n",
            "RangeIndex: 303 entries, 0 to 302\n",
            "Data columns (total 14 columns):\n",
            " #   Column    Non-Null Count  Dtype  \n",
            "---  ------    --------------  -----  \n",
            " 0   age       303 non-null    int64  \n",
            " 1   sex       303 non-null    int64  \n",
            " 2   cp        303 non-null    int64  \n",
            " 3   trestbps  303 non-null    int64  \n",
            " 4   chol      303 non-null    int64  \n",
            " 5   fbs       303 non-null    int64  \n",
            " 6   restecg   303 non-null    int64  \n",
            " 7   thalach   303 non-null    int64  \n",
            " 8   exang     303 non-null    int64  \n",
            " 9   oldpeak   303 non-null    float64\n",
            " 10  slope     303 non-null    int64  \n",
            " 11  ca        303 non-null    int64  \n",
            " 12  thal      303 non-null    int64  \n",
            " 13  target    303 non-null    int64  \n",
            "dtypes: float64(1), int64(13)\n",
            "memory usage: 33.3 KB\n"
          ]
        }
      ]
    },
    {
      "cell_type": "markdown",
      "source": [
        "Let's understand our columns better:"
      ],
      "metadata": {
        "id": "X0amEhucMaiE"
      }
    },
    {
      "cell_type": "code",
      "source": [
        "info = [\"age\",\"1: male, 0: female\",\"chest pain type, 1: typical angina, 2: atypical angina, 3: non-anginal pain, 4: asymptomatic\",\"resting blood pressure\",\" serum cholestoral in mg/dl\",\"fasting blood sugar > 120 mg/dl\",\"resting electrocardiographic results (values 0,1,2)\",\" maximum heart rate achieved\",\"exercise induced angina\",\"oldpeak = ST depression induced by exercise relative to rest\",\"the slope of the peak exercise ST segment\",\"number of major vessels (0-3) colored by flourosopy\",\"thal: 3 = normal; 6 = fixed defect; 7 = reversable defect\"]\n",
        "\n",
        "\n",
        "\n",
        "for i in range(len(info)):\n",
        "    print(dataset.columns[i]+\":\\t\\t\\t\"+info[i])"
      ],
      "metadata": {
        "colab": {
          "base_uri": "https://localhost:8080/"
        },
        "id": "Kyoo2Tfe6H92",
        "outputId": "d46c8e33-8a1c-4a1f-bb5f-b332d6d7194c"
      },
      "execution_count": null,
      "outputs": [
        {
          "output_type": "stream",
          "name": "stdout",
          "text": [
            "age:\t\t\tage\n",
            "sex:\t\t\t1: male, 0: female\n",
            "cp:\t\t\tchest pain type, 1: typical angina, 2: atypical angina, 3: non-anginal pain, 4: asymptomatic\n",
            "trestbps:\t\t\tresting blood pressure\n",
            "chol:\t\t\t serum cholestoral in mg/dl\n",
            "fbs:\t\t\tfasting blood sugar > 120 mg/dl\n",
            "restecg:\t\t\tresting electrocardiographic results (values 0,1,2)\n",
            "thalach:\t\t\t maximum heart rate achieved\n",
            "exang:\t\t\texercise induced angina\n",
            "oldpeak:\t\t\toldpeak = ST depression induced by exercise relative to rest\n",
            "slope:\t\t\tthe slope of the peak exercise ST segment\n",
            "ca:\t\t\tnumber of major vessels (0-3) colored by flourosopy\n",
            "thal:\t\t\tthal: 3 = normal; 6 = fixed defect; 7 = reversable defect\n"
          ]
        }
      ]
    },
    {
      "cell_type": "markdown",
      "source": [
        "Analysing the 'target' variable"
      ],
      "metadata": {
        "id": "PJEAzf00MdjU"
      }
    },
    {
      "cell_type": "code",
      "source": [
        "dataset[\"target\"].describe()"
      ],
      "metadata": {
        "colab": {
          "base_uri": "https://localhost:8080/"
        },
        "id": "Y377zEph6hmO",
        "outputId": "e2de562a-ff0e-4b96-f44d-3a5dbf049dde"
      },
      "execution_count": null,
      "outputs": [
        {
          "output_type": "execute_result",
          "data": {
            "text/plain": [
              "count    303.000000\n",
              "mean       0.544554\n",
              "std        0.498835\n",
              "min        0.000000\n",
              "25%        0.000000\n",
              "50%        1.000000\n",
              "75%        1.000000\n",
              "max        1.000000\n",
              "Name: target, dtype: float64"
            ]
          },
          "metadata": {},
          "execution_count": 13
        }
      ]
    },
    {
      "cell_type": "code",
      "source": [
        "dataset[\"target\"].unique()"
      ],
      "metadata": {
        "colab": {
          "base_uri": "https://localhost:8080/"
        },
        "id": "WAwweCyS6ihs",
        "outputId": "dd24c1bf-dea1-46f1-c92d-6bd05011091f"
      },
      "execution_count": null,
      "outputs": [
        {
          "output_type": "execute_result",
          "data": {
            "text/plain": [
              "array([1, 0])"
            ]
          },
          "metadata": {},
          "execution_count": 14
        }
      ]
    },
    {
      "cell_type": "markdown",
      "source": [
        "Clearly, this is a classification problem, with the target variable having values '0' and '1'"
      ],
      "metadata": {
        "id": "Pqh2drtYMos4"
      }
    },
    {
      "cell_type": "markdown",
      "source": [
        "**Exploratory Data Analysis (EDA)**"
      ],
      "metadata": {
        "id": "9IR8Q4OpNIzj"
      }
    },
    {
      "cell_type": "markdown",
      "source": [
        "First, analysing the target variable:"
      ],
      "metadata": {
        "id": "eTbzDyYBNPJ5"
      }
    },
    {
      "cell_type": "code",
      "source": [
        "y = dataset[\"target\"]\n",
        "\n",
        "sns.countplot(y)\n",
        "\n",
        "\n",
        "target_temp = dataset.target.value_counts()\n",
        "\n",
        "print(target_temp)"
      ],
      "metadata": {
        "colab": {
          "base_uri": "https://localhost:8080/",
          "height": 482
        },
        "id": "2dvMINYq6jMs",
        "outputId": "aec69fcc-9017-4425-c537-49519d59c0f3"
      },
      "execution_count": null,
      "outputs": [
        {
          "output_type": "stream",
          "name": "stdout",
          "text": [
            "1    165\n",
            "0    138\n",
            "Name: target, dtype: int64\n"
          ]
        },
        {
          "output_type": "display_data",
          "data": {
            "text/plain": [
              "<Figure size 640x480 with 1 Axes>"
            ],
            "image/png": "[encoded data removed]"
          },
          "metadata": {}
        }
      ]
    },
    {
      "cell_type": "code",
      "source": [
        "print(\"Percentage of patience without heart problems: \"+str(round(target_temp[0]*100/303,2)))\n",
        "print(\"Percentage of patience with heart problems: \"+str(round(target_temp[1]*100/303,2)))\n",
        "\n",
        "#Alternatively,\n",
        "# print(\"Percentage of patients with heart problems: \"+str(y.where(y==1).count()*100/303))\n",
        "# print(\"Percentage of patients with heart problems: \"+str(y.where(y==0).count()*100/303))\n",
        "\n",
        "# #Or,\n",
        "# countNoDisease = len(df[df.target == 0])\n",
        "# countHaveDisease = len(df[df.target == 1])"
      ],
      "metadata": {
        "id": "YrHRqtwf6jh-",
        "colab": {
          "base_uri": "https://localhost:8080/"
        },
        "outputId": "54c4675a-140c-4314-b510-058f898f3e63"
      },
      "execution_count": null,
      "outputs": [
        {
          "output_type": "stream",
          "name": "stdout",
          "text": [
            "Percentage of patience without heart problems: 45.54\n",
            "Percentage of patience with heart problems: 54.46\n"
          ]
        }
      ]
    },
    {
      "cell_type": "markdown",
      "source": [
        "**We'll analyse 'sex', 'cp', 'fbs', 'restecg', 'exang', 'slope', 'ca' and 'thal' features**"
      ],
      "metadata": {
        "id": "ZnAmnlMfNXTC"
      }
    },
    {
      "cell_type": "markdown",
      "source": [
        "Analysing the 'Sex' feature"
      ],
      "metadata": {
        "id": "yzI8LI8INcgo"
      }
    },
    {
      "cell_type": "code",
      "source": [
        "dataset[\"sex\"].unique()"
      ],
      "metadata": {
        "id": "6ZFf9FFq6j6H",
        "colab": {
          "base_uri": "https://localhost:8080/"
        },
        "outputId": "d86c370a-13d0-42b3-9142-b7987453fc37"
      },
      "execution_count": null,
      "outputs": [
        {
          "output_type": "execute_result",
          "data": {
            "text/plain": [
              "array([1, 0])"
            ]
          },
          "metadata": {},
          "execution_count": 17
        }
      ]
    },
    {
      "cell_type": "markdown",
      "source": [
        "We notice, that as expected, the 'sex' feature has 2 unique features"
      ],
      "metadata": {
        "id": "S89soKh6NlFV"
      }
    },
    {
      "cell_type": "code",
      "source": [
        "sns.barplot(x=dataset[\"sex\"],y=y)"
      ],
      "metadata": {
        "colab": {
          "base_uri": "https://localhost:8080/",
          "height": 466
        },
        "id": "QIyeTTdh9Xmw",
        "outputId": "1c22b1e8-a9e7-40b3-dfae-07906015429b"
      },
      "execution_count": null,
      "outputs": [
        {
          "output_type": "execute_result",
          "data": {
            "text/plain": [
              "<Axes: xlabel='sex', ylabel='target'>"
            ]
          },
          "metadata": {},
          "execution_count": 18
        },
        {
          "output_type": "display_data",
          "data": {
            "text/plain": [
              "<Figure size 640x480 with 1 Axes>"
            ],
            "image/png": "[encoded data removed]"
          },
          "metadata": {}
        }
      ]
    },
    {
      "cell_type": "markdown",
      "source": [
        "We notice, that females are more likely to have heart problems than males"
      ],
      "metadata": {
        "id": "TocxYflmNvxu"
      }
    },
    {
      "cell_type": "code",
      "source": [
        "dataset[\"cp\"].unique()"
      ],
      "metadata": {
        "id": "N0NoLyh264RY",
        "colab": {
          "base_uri": "https://localhost:8080/"
        },
        "outputId": "eae5c833-4b19-46e5-c5a7-dda29c593527"
      },
      "execution_count": null,
      "outputs": [
        {
          "output_type": "execute_result",
          "data": {
            "text/plain": [
              "array([3, 2, 1, 0])"
            ]
          },
          "metadata": {},
          "execution_count": 19
        }
      ]
    },
    {
      "cell_type": "markdown",
      "source": [
        "As expected, the CP feature has values from 0 to 3"
      ],
      "metadata": {
        "id": "D1dOWNnMNyDd"
      }
    },
    {
      "cell_type": "code",
      "source": [
        "sns.barplot(x=dataset[\"cp\"],y=y)"
      ],
      "metadata": {
        "id": "kq6Lhggx7D1i",
        "colab": {
          "base_uri": "https://localhost:8080/",
          "height": 466
        },
        "outputId": "d4a7773b-dcbb-42cb-c49f-488a939a7c78"
      },
      "execution_count": null,
      "outputs": [
        {
          "output_type": "execute_result",
          "data": {
            "text/plain": [
              "<Axes: xlabel='cp', ylabel='target'>"
            ]
          },
          "metadata": {},
          "execution_count": 20
        },
        {
          "output_type": "display_data",
          "data": {
            "text/plain": [
              "<Figure size 640x480 with 1 Axes>"
            ],
            "image/png": "[encoded data removed]"
          },
          "metadata": {}
        }
      ]
    },
    {
      "cell_type": "markdown",
      "source": [
        "We notice, that chest pain of '0', i.e. the ones with typical angina are much less likely to have heart problems"
      ],
      "metadata": {
        "id": "GGH-WuDYN5_q"
      }
    },
    {
      "cell_type": "markdown",
      "source": [
        "**Analysing the FBS feature**"
      ],
      "metadata": {
        "id": "aXyK9Rj5N7Mh"
      }
    },
    {
      "cell_type": "code",
      "source": [
        "dataset[\"fbs\"].describe()"
      ],
      "metadata": {
        "id": "IVr1aqpu7EIu",
        "colab": {
          "base_uri": "https://localhost:8080/"
        },
        "outputId": "db05d5a1-e186-4376-a818-3b0c76092db0"
      },
      "execution_count": null,
      "outputs": [
        {
          "output_type": "execute_result",
          "data": {
            "text/plain": [
              "count    303.000000\n",
              "mean       0.148515\n",
              "std        0.356198\n",
              "min        0.000000\n",
              "25%        0.000000\n",
              "50%        0.000000\n",
              "75%        0.000000\n",
              "max        1.000000\n",
              "Name: fbs, dtype: float64"
            ]
          },
          "metadata": {},
          "execution_count": 21
        }
      ]
    },
    {
      "cell_type": "code",
      "source": [
        "dataset[\"fbs\"].unique()"
      ],
      "metadata": {
        "id": "ADuFsv9x7Ecl",
        "colab": {
          "base_uri": "https://localhost:8080/"
        },
        "outputId": "e36ecb79-b704-42eb-e99f-13c5c4e1167c"
      },
      "execution_count": null,
      "outputs": [
        {
          "output_type": "execute_result",
          "data": {
            "text/plain": [
              "array([1, 0])"
            ]
          },
          "metadata": {},
          "execution_count": 22
        }
      ]
    },
    {
      "cell_type": "code",
      "source": [
        "sns.barplot(x=dataset[\"fbs\"],y=y)"
      ],
      "metadata": {
        "id": "guyz_lBp7FDv",
        "colab": {
          "base_uri": "https://localhost:8080/",
          "height": 466
        },
        "outputId": "efb23fd6-b456-4d86-a7ce-1970ec355a44"
      },
      "execution_count": null,
      "outputs": [
        {
          "output_type": "execute_result",
          "data": {
            "text/plain": [
              "<Axes: xlabel='fbs', ylabel='target'>"
            ]
          },
          "metadata": {},
          "execution_count": 23
        },
        {
          "output_type": "display_data",
          "data": {
            "text/plain": [
              "<Figure size 640x480 with 1 Axes>"
            ],
            "image/png": "[encoded data removed]"
          },
          "metadata": {}
        }
      ]
    },
    {
      "cell_type": "markdown",
      "source": [
        "Nothing extraordinary here"
      ],
      "metadata": {
        "id": "u0Y4RA49OBDQ"
      }
    },
    {
      "cell_type": "markdown",
      "source": [
        "**Analysing the restecg feature**"
      ],
      "metadata": {
        "id": "f7zy9u2BOEYI"
      }
    },
    {
      "cell_type": "code",
      "source": [
        "dataset[\"restecg\"].unique()"
      ],
      "metadata": {
        "id": "8MvJaGxk7aA-",
        "colab": {
          "base_uri": "https://localhost:8080/"
        },
        "outputId": "4d405480-195c-42c3-e435-88eed2e22aa3"
      },
      "execution_count": null,
      "outputs": [
        {
          "output_type": "execute_result",
          "data": {
            "text/plain": [
              "array([0, 1, 2])"
            ]
          },
          "metadata": {},
          "execution_count": 24
        }
      ]
    },
    {
      "cell_type": "code",
      "source": [
        "sns.barplot(x=dataset[\"restecg\"],y=y)"
      ],
      "metadata": {
        "id": "xTR75-hm7aXP",
        "colab": {
          "base_uri": "https://localhost:8080/",
          "height": 466
        },
        "outputId": "8ab643eb-86f2-44eb-c097-1fcbfa283a9f"
      },
      "execution_count": null,
      "outputs": [
        {
          "output_type": "execute_result",
          "data": {
            "text/plain": [
              "<Axes: xlabel='restecg', ylabel='target'>"
            ]
          },
          "metadata": {},
          "execution_count": 25
        },
        {
          "output_type": "display_data",
          "data": {
            "text/plain": [
              "<Figure size 640x480 with 1 Axes>"
            ],
            "image/png": "[encoded data removed]"
          },
          "metadata": {}
        }
      ]
    },
    {
      "cell_type": "markdown",
      "source": [
        "We realize that people with restecg '1' and '0' are much more likely to have a heart disease than with restecg '2'"
      ],
      "metadata": {
        "id": "haAgJw3OOk72"
      }
    },
    {
      "cell_type": "markdown",
      "source": [
        "**Analysing the 'exang' feature**"
      ],
      "metadata": {
        "id": "hJYUTsfbOnkc"
      }
    },
    {
      "cell_type": "code",
      "source": [
        "dataset[\"exang\"].unique()"
      ],
      "metadata": {
        "id": "HlPXfCyT7avO",
        "colab": {
          "base_uri": "https://localhost:8080/"
        },
        "outputId": "a536d001-fe8d-47e7-b71f-c06fa506de5e"
      },
      "execution_count": null,
      "outputs": [
        {
          "output_type": "execute_result",
          "data": {
            "text/plain": [
              "array([0, 1])"
            ]
          },
          "metadata": {},
          "execution_count": 26
        }
      ]
    },
    {
      "cell_type": "code",
      "source": [
        "sns.barplot(x=dataset[\"exang\"],y=y)"
      ],
      "metadata": {
        "id": "YxEJicQu7bIu",
        "colab": {
          "base_uri": "https://localhost:8080/",
          "height": 466
        },
        "outputId": "17232c6d-0456-4a33-8cbf-d005e2cfe0b7"
      },
      "execution_count": null,
      "outputs": [
        {
          "output_type": "execute_result",
          "data": {
            "text/plain": [
              "<Axes: xlabel='exang', ylabel='target'>"
            ]
          },
          "metadata": {},
          "execution_count": 27
        },
        {
          "output_type": "display_data",
          "data": {
            "text/plain": [
              "<Figure size 640x480 with 1 Axes>"
            ],
            "image/png": "[encoded data removed]"
          },
          "metadata": {}
        }
      ]
    },
    {
      "cell_type": "markdown",
      "source": [
        "People with exang=1 i.e. Exercise induced angina are much less likely to have heart problems"
      ],
      "metadata": {
        "id": "3C3aQgIkOsxp"
      }
    },
    {
      "cell_type": "markdown",
      "source": [
        "**Analysing the Slope feature**"
      ],
      "metadata": {
        "id": "FIu8Ugi4OwfI"
      }
    },
    {
      "cell_type": "code",
      "source": [
        "dataset[\"slope\"].unique()"
      ],
      "metadata": {
        "id": "uBWCdGrL7kkP",
        "colab": {
          "base_uri": "https://localhost:8080/"
        },
        "outputId": "69d536ca-be55-4096-c68b-a025d99b1c6a"
      },
      "execution_count": null,
      "outputs": [
        {
          "output_type": "execute_result",
          "data": {
            "text/plain": [
              "array([0, 2, 1])"
            ]
          },
          "metadata": {},
          "execution_count": 28
        }
      ]
    },
    {
      "cell_type": "code",
      "source": [
        "sns.barplot(x=dataset[\"slope\"],y=y)"
      ],
      "metadata": {
        "id": "aoMjxh2g7lIk",
        "colab": {
          "base_uri": "https://localhost:8080/",
          "height": 466
        },
        "outputId": "2bcd06d0-8e7b-4e1c-a8ee-b02863f6c6bb"
      },
      "execution_count": null,
      "outputs": [
        {
          "output_type": "execute_result",
          "data": {
            "text/plain": [
              "<Axes: xlabel='slope', ylabel='target'>"
            ]
          },
          "metadata": {},
          "execution_count": 29
        },
        {
          "output_type": "display_data",
          "data": {
            "text/plain": [
              "<Figure size 640x480 with 1 Axes>"
            ],
            "image/png": "[encoded data removed]"
          },
          "metadata": {}
        }
      ]
    },
    {
      "cell_type": "markdown",
      "source": [
        "We observe, that Slope '2' causes heart pain much more than Slope '0' and '1'"
      ],
      "metadata": {
        "id": "fK4MjZZnO6Ya"
      }
    },
    {
      "cell_type": "markdown",
      "source": [
        "**Analysing the 'ca' feature**"
      ],
      "metadata": {
        "id": "yMz3mDkoO9ny"
      }
    },
    {
      "cell_type": "code",
      "source": [
        "#number of major vessels (0-3) colored by flourosopy"
      ],
      "metadata": {
        "id": "XZBXZdWCPCii"
      },
      "execution_count": null,
      "outputs": []
    },
    {
      "cell_type": "code",
      "source": [
        "dataset[\"ca\"].unique()"
      ],
      "metadata": {
        "id": "PBE--IMP7leC",
        "colab": {
          "base_uri": "https://localhost:8080/"
        },
        "outputId": "c0467016-7e07-4107-9879-f1038f9947af"
      },
      "execution_count": null,
      "outputs": [
        {
          "output_type": "execute_result",
          "data": {
            "text/plain": [
              "array([0, 2, 1, 3, 4])"
            ]
          },
          "metadata": {},
          "execution_count": 31
        }
      ]
    },
    {
      "cell_type": "code",
      "source": [
        "sns.countplot(dataset[\"ca\"])"
      ],
      "metadata": {
        "id": "_ttR8cgy79Z2",
        "colab": {
          "base_uri": "https://localhost:8080/",
          "height": 447
        },
        "outputId": "3ec40ded-d9b1-46e7-8abd-1037ad43ccd0"
      },
      "execution_count": null,
      "outputs": [
        {
          "output_type": "execute_result",
          "data": {
            "text/plain": [
              "<Axes: ylabel='count'>"
            ]
          },
          "metadata": {},
          "execution_count": 32
        },
        {
          "output_type": "display_data",
          "data": {
            "text/plain": [
              "<Figure size 640x480 with 1 Axes>"
            ],
            "image/png": "[encoded data removed]"
          },
          "metadata": {}
        }
      ]
    },
    {
      "cell_type": "code",
      "source": [
        "sns.barplot(x=dataset[\"ca\"],y=y)"
      ],
      "metadata": {
        "id": "2V2Je4Ka79wR",
        "colab": {
          "base_uri": "https://localhost:8080/",
          "height": 466
        },
        "outputId": "ad6cbc17-98ba-4258-9147-ba542152170c"
      },
      "execution_count": null,
      "outputs": [
        {
          "output_type": "execute_result",
          "data": {
            "text/plain": [
              "<Axes: xlabel='ca', ylabel='target'>"
            ]
          },
          "metadata": {},
          "execution_count": 33
        },
        {
          "output_type": "display_data",
          "data": {
            "text/plain": [
              "<Figure size 640x480 with 1 Axes>"
            ],
            "image/png": "[encoded data removed]"
          },
          "metadata": {}
        }
      ]
    },
    {
      "cell_type": "markdown",
      "source": [
        "ca=4 has astonishingly large number of heart patients"
      ],
      "metadata": {
        "id": "ek3-FKg8POPt"
      }
    },
    {
      "cell_type": "code",
      "source": [
        "### Analysing the 'thal' feature"
      ],
      "metadata": {
        "id": "OKrN-V3nPT1w"
      },
      "execution_count": null,
      "outputs": []
    },
    {
      "cell_type": "code",
      "source": [
        "dataset[\"thal\"].unique()"
      ],
      "metadata": {
        "id": "S7YHlBg07-Gn",
        "colab": {
          "base_uri": "https://localhost:8080/"
        },
        "outputId": "860a51f0-76ce-48ba-fb37-590410df840d"
      },
      "execution_count": null,
      "outputs": [
        {
          "output_type": "execute_result",
          "data": {
            "text/plain": [
              "array([1, 2, 3, 0])"
            ]
          },
          "metadata": {},
          "execution_count": 35
        }
      ]
    },
    {
      "cell_type": "code",
      "source": [
        "sns.barplot(x=dataset[\"thal\"],y=y)"
      ],
      "metadata": {
        "id": "eiGNJpse7-dj",
        "colab": {
          "base_uri": "https://localhost:8080/",
          "height": 466
        },
        "outputId": "3ed889cf-269d-4042-acdf-cb93129bd841"
      },
      "execution_count": null,
      "outputs": [
        {
          "output_type": "execute_result",
          "data": {
            "text/plain": [
              "<Axes: xlabel='thal', ylabel='target'>"
            ]
          },
          "metadata": {},
          "execution_count": 36
        },
        {
          "output_type": "display_data",
          "data": {
            "text/plain": [
              "<Figure size 640x480 with 1 Axes>"
            ],
            "image/png": "[encoded data removed]"
          },
          "metadata": {}
        }
      ]
    },
    {
      "cell_type": "code",
      "source": [
        "sns.distplot(dataset[\"thal\"])"
      ],
      "metadata": {
        "id": "NxW9csEK7-2i",
        "colab": {
          "base_uri": "https://localhost:8080/",
          "height": 466
        },
        "outputId": "edc2a937-3d59-4854-af2b-f435c89566c7"
      },
      "execution_count": null,
      "outputs": [
        {
          "output_type": "execute_result",
          "data": {
            "text/plain": [
              "<Axes: xlabel='thal', ylabel='Density'>"
            ]
          },
          "metadata": {},
          "execution_count": 37
        },
        {
          "output_type": "display_data",
          "data": {
            "text/plain": [
              "<Figure size 640x480 with 1 Axes>"
            ],
            "image/png": "[encoded data removed]"
          },
          "metadata": {}
        }
      ]
    },
    {
      "cell_type": "markdown",
      "source": [
        "**Train Test split**"
      ],
      "metadata": {
        "id": "zEEQ3P9oPYrr"
      }
    },
    {
      "cell_type": "code",
      "source": [
        "from sklearn.model_selection import train_test_split\n",
        "\n",
        "predictors = dataset.drop(\"target\",axis=1)\n",
        "target = dataset[\"target\"]\n",
        "\n",
        "X_train,X_test,Y_train,Y_test = train_test_split(predictors,target,test_size=0.20,random_state=0)"
      ],
      "metadata": {
        "id": "Aqys9GZ88fcX"
      },
      "execution_count": null,
      "outputs": []
    },
    {
      "cell_type": "code",
      "source": [
        "X_train.shape"
      ],
      "metadata": {
        "id": "aFYDyyWJ9EP1",
        "colab": {
          "base_uri": "https://localhost:8080/"
        },
        "outputId": "cdecad33-88cb-49d8-ec70-70e1dd2fdf40"
      },
      "execution_count": null,
      "outputs": [
        {
          "output_type": "execute_result",
          "data": {
            "text/plain": [
              "(242, 13)"
            ]
          },
          "metadata": {},
          "execution_count": 39
        }
      ]
    },
    {
      "cell_type": "code",
      "source": [
        "X_test.shape"
      ],
      "metadata": {
        "id": "tsozPNAo9Epv",
        "colab": {
          "base_uri": "https://localhost:8080/"
        },
        "outputId": "d42e8b87-7874-4aaa-8e90-2659166c4c88"
      },
      "execution_count": null,
      "outputs": [
        {
          "output_type": "execute_result",
          "data": {
            "text/plain": [
              "(61, 13)"
            ]
          },
          "metadata": {},
          "execution_count": 40
        }
      ]
    },
    {
      "cell_type": "code",
      "source": [
        "Y_train.shape"
      ],
      "metadata": {
        "id": "aKoPI-l89FBp",
        "colab": {
          "base_uri": "https://localhost:8080/"
        },
        "outputId": "83407c98-76fc-44ec-9d24-b6da004e3d27"
      },
      "execution_count": null,
      "outputs": [
        {
          "output_type": "execute_result",
          "data": {
            "text/plain": [
              "(242,)"
            ]
          },
          "metadata": {},
          "execution_count": 41
        }
      ]
    },
    {
      "cell_type": "code",
      "source": [
        "Y_test.shape"
      ],
      "metadata": {
        "id": "qF-ky7gv9FVF",
        "colab": {
          "base_uri": "https://localhost:8080/"
        },
        "outputId": "103b73ba-c111-456c-e7cd-e24beaf38c4c"
      },
      "execution_count": null,
      "outputs": [
        {
          "output_type": "execute_result",
          "data": {
            "text/plain": [
              "(61,)"
            ]
          },
          "metadata": {},
          "execution_count": 42
        }
      ]
    },
    {
      "cell_type": "markdown",
      "source": [
        "**Model Fitting**"
      ],
      "metadata": {
        "id": "ma-g7UoBPj-R"
      }
    },
    {
      "cell_type": "code",
      "source": [
        "from sklearn.metrics import accuracy_score"
      ],
      "metadata": {
        "id": "X4n-2WE39R5T"
      },
      "execution_count": null,
      "outputs": []
    },
    {
      "cell_type": "markdown",
      "source": [
        "**Logistic Regression**"
      ],
      "metadata": {
        "id": "irw0Cyy4PoC6"
      }
    },
    {
      "cell_type": "code",
      "source": [
        "from sklearn.linear_model import LogisticRegression\n",
        "\n",
        "lr = LogisticRegression()\n",
        "\n",
        "lr.fit(X_train,Y_train)\n",
        "\n",
        "Y_pred_lr = lr.predict(X_test)"
      ],
      "metadata": {
        "id": "qxn6iqxg9SVZ"
      },
      "execution_count": null,
      "outputs": []
    },
    {
      "cell_type": "code",
      "source": [
        "Y_pred_lr.shape"
      ],
      "metadata": {
        "id": "NglJP_mp9TVL",
        "colab": {
          "base_uri": "https://localhost:8080/"
        },
        "outputId": "f3600e54-2c26-4a83-f453-716c2d29b46d"
      },
      "execution_count": null,
      "outputs": [
        {
          "output_type": "execute_result",
          "data": {
            "text/plain": [
              "(61,)"
            ]
          },
          "metadata": {},
          "execution_count": 45
        }
      ]
    },
    {
      "cell_type": "code",
      "source": [
        "score_lr = round(accuracy_score(Y_pred_lr,Y_test)*100,2)\n",
        "\n",
        "print(\"The accuracy score achieved using Logistic Regression is: \"+str(score_lr)+\" %\")"
      ],
      "metadata": {
        "id": "JhIbu_vc9cCc",
        "colab": {
          "base_uri": "https://localhost:8080/"
        },
        "outputId": "3339dd1e-6937-42e2-f575-c463489838b1"
      },
      "execution_count": null,
      "outputs": [
        {
          "output_type": "stream",
          "name": "stdout",
          "text": [
            "The accuracy score achieved using Logistic Regression is: 85.25 %\n"
          ]
        }
      ]
    },
    {
      "cell_type": "markdown",
      "source": [
        "The accuracy score achieved using Logistic Regression is: 85.25 %"
      ],
      "metadata": {
        "id": "2WlYMXRTPxHc"
      }
    },
    {
      "cell_type": "markdown",
      "source": [
        "**Naive Bayes**"
      ],
      "metadata": {
        "id": "ftKfH62tPyhX"
      }
    },
    {
      "cell_type": "code",
      "source": [
        "from sklearn.naive_bayes import MultinomialNB\n",
        "\n",
        "nb = MultinomialNB()\n",
        "\n",
        "nb.fit(X_train,Y_train)\n",
        "\n",
        "Y_pred_nb = nb.predict(X_test)"
      ],
      "metadata": {
        "id": "TfZslp-K9cbB"
      },
      "execution_count": null,
      "outputs": []
    },
    {
      "cell_type": "code",
      "source": [
        "\n",
        "Y_pred_nb.shape"
      ],
      "metadata": {
        "id": "rmIN1DzS99DL",
        "colab": {
          "base_uri": "https://localhost:8080/"
        },
        "outputId": "0a311e5c-8819-46c5-dda6-2d39d6e6ab53"
      },
      "execution_count": null,
      "outputs": [
        {
          "output_type": "execute_result",
          "data": {
            "text/plain": [
              "(61,)"
            ]
          },
          "metadata": {},
          "execution_count": 48
        }
      ]
    },
    {
      "cell_type": "code",
      "source": [
        "score_nb = round(accuracy_score(Y_pred_nb,Y_test)*100,2)\n",
        "\n",
        "print(\"The accuracy score achieved using Naive Bayes is: \"+str(score_nb)+\" %\")"
      ],
      "metadata": {
        "id": "2f0z2wZ-9838",
        "colab": {
          "base_uri": "https://localhost:8080/"
        },
        "outputId": "34c9285c-06f3-4b9e-e94b-488e90a9c0d4"
      },
      "execution_count": null,
      "outputs": [
        {
          "output_type": "stream",
          "name": "stdout",
          "text": [
            "The accuracy score achieved using Naive Bayes is: 77.05 %\n"
          ]
        }
      ]
    },
    {
      "cell_type": "markdown",
      "source": [
        "The accuracy score achieved using Naive Bayes is: 77.05 %"
      ],
      "metadata": {
        "id": "KwuKPLT0P8ZC"
      }
    },
    {
      "cell_type": "markdown",
      "source": [
        "**K Nearest Neighbors**"
      ],
      "metadata": {
        "id": "8_m4OZmqQMwp"
      }
    },
    {
      "cell_type": "code",
      "source": [
        "from sklearn.neighbors import KNeighborsClassifier\n",
        "\n",
        "knn = KNeighborsClassifier(n_neighbors=13)\n",
        "knn.fit(X_train,Y_train)\n",
        "Y_pred_knn=knn.predict(X_test)"
      ],
      "metadata": {
        "id": "X2YmznpP-Syh"
      },
      "execution_count": null,
      "outputs": []
    },
    {
      "cell_type": "code",
      "source": [
        "Y_pred_knn.shape"
      ],
      "metadata": {
        "id": "jFQ2kRCW-Xw1",
        "colab": {
          "base_uri": "https://localhost:8080/"
        },
        "outputId": "a8ad5d1c-3dde-4fb6-d19d-aa725d67fe94"
      },
      "execution_count": null,
      "outputs": [
        {
          "output_type": "execute_result",
          "data": {
            "text/plain": [
              "(61,)"
            ]
          },
          "metadata": {},
          "execution_count": 51
        }
      ]
    },
    {
      "cell_type": "code",
      "source": [
        "score_knn = round(accuracy_score(Y_pred_knn,Y_test)*100,2)\n",
        "\n",
        "print(\"The accuracy score achieved using KNN is: \"+str(score_knn)+\" %\")"
      ],
      "metadata": {
        "id": "4khO3whj-Xj5",
        "colab": {
          "base_uri": "https://localhost:8080/"
        },
        "outputId": "c49f05c3-b454-4cd7-dcfd-e2d2a4ab3c83"
      },
      "execution_count": null,
      "outputs": [
        {
          "output_type": "stream",
          "name": "stdout",
          "text": [
            "The accuracy score achieved using KNN is: 72.13 %\n"
          ]
        }
      ]
    },
    {
      "cell_type": "markdown",
      "source": [
        "The accuracy score achieved using KNN is: 72.13 %"
      ],
      "metadata": {
        "id": "cb1yFUd0QV_O"
      }
    },
    {
      "cell_type": "markdown",
      "source": [
        "**Decision Tree**"
      ],
      "metadata": {
        "id": "yEFCLcDrQhYL"
      }
    },
    {
      "cell_type": "code",
      "source": [
        "from sklearn.tree import DecisionTreeClassifier\n",
        "model=DecisionTreeClassifier(criterion='entropy')\n",
        "model.fit(X_train,Y_train)\n",
        "\n",
        "\n"
      ],
      "metadata": {
        "colab": {
          "base_uri": "https://localhost:8080/",
          "height": 74
        },
        "id": "krWlwW_UHbxQ",
        "outputId": "1a320402-09cd-48d1-c25e-677667825cb2"
      },
      "execution_count": null,
      "outputs": [
        {
          "output_type": "execute_result",
          "data": {
            "text/plain": [
              "DecisionTreeClassifier(criterion='entropy')"
            ],
            "text/html": [
              "<style>#sk-container-id-1 {color: black;background-color: white;}#sk-container-id-1 pre{padding: 0;}#sk-container-id-1 div.sk-toggleable {background-color: white;}#sk-container-id-1 label.sk-toggleable__label {cursor: pointer;display: block;width: 100%;margin-bottom: 0;padding: 0.3em;box-sizing: border-box;text-align: center;}#sk-container-id-1 label.sk-toggleable__label-arrow:before {content: \"▸\";float: left;margin-right: 0.25em;color: #696969;}#sk-container-id-1 label.sk-toggleable__label-arrow:hover:before {color: black;}#sk-container-id-1 div.sk-estimator:hover label.sk-toggleable__label-arrow:before {color: black;}#sk-container-id-1 div.sk-toggleable__content {max-height: 0;max-width: 0;overflow: hidden;text-align: left;background-color: #f0f8ff;}#sk-container-id-1 div.sk-toggleable__content pre {margin: 0.2em;color: black;border-radius: 0.25em;background-color: #f0f8ff;}#sk-container-id-1 input.sk-toggleable__control:checked~div.sk-toggleable__content {max-height: 200px;max-width: 100%;overflow: auto;}#sk-container-id-1 input.sk-toggleable__control:checked~label.sk-toggleable__label-arrow:before {content: \"▾\";}#sk-container-id-1 div.sk-estimator input.sk-toggleable__control:checked~label.sk-toggleable__label {background-color: #d4ebff;}#sk-container-id-1 div.sk-label input.sk-toggleable__control:checked~label.sk-toggleable__label {background-color: #d4ebff;}#sk-container-id-1 input.sk-hidden--visually {border: 0;clip: rect(1px 1px 1px 1px);clip: rect(1px, 1px, 1px, 1px);height: 1px;margin: -1px;overflow: hidden;padding: 0;position: absolute;width: 1px;}#sk-container-id-1 div.sk-estimator {font-family: monospace;background-color: #f0f8ff;border: 1px dotted black;border-radius: 0.25em;box-sizing: border-box;margin-bottom: 0.5em;}#sk-container-id-1 div.sk-estimator:hover {background-color: #d4ebff;}#sk-container-id-1 div.sk-parallel-item::after {content: \"\";width: 100%;border-bottom: 1px solid gray;flex-grow: 1;}#sk-container-id-1 div.sk-label:hover label.sk-toggleable__label {background-color: #d4ebff;}#sk-container-id-1 div.sk-serial::before {content: \"\";position: absolute;border-left: 1px solid gray;box-sizing: border-box;top: 0;bottom: 0;left: 50%;z-index: 0;}#sk-container-id-1 div.sk-serial {display: flex;flex-direction: column;align-items: center;background-color: white;padding-right: 0.2em;padding-left: 0.2em;position: relative;}#sk-container-id-1 div.sk-item {position: relative;z-index: 1;}#sk-container-id-1 div.sk-parallel {display: flex;align-items: stretch;justify-content: center;background-color: white;position: relative;}#sk-container-id-1 div.sk-item::before, #sk-container-id-1 div.sk-parallel-item::before {content: \"\";position: absolute;border-left: 1px solid gray;box-sizing: border-box;top: 0;bottom: 0;left: 50%;z-index: -1;}#sk-container-id-1 div.sk-parallel-item {display: flex;flex-direction: column;z-index: 1;position: relative;background-color: white;}#sk-container-id-1 div.sk-parallel-item:first-child::after {align-self: flex-end;width: 50%;}#sk-container-id-1 div.sk-parallel-item:last-child::after {align-self: flex-start;width: 50%;}#sk-container-id-1 div.sk-parallel-item:only-child::after {width: 0;}#sk-container-id-1 div.sk-dashed-wrapped {border: 1px dashed gray;margin: 0 0.4em 0.5em 0.4em;box-sizing: border-box;padding-bottom: 0.4em;background-color: white;}#sk-container-id-1 div.sk-label label {font-family: monospace;font-weight: bold;display: inline-block;line-height: 1.2em;}#sk-container-id-1 div.sk-label-container {text-align: center;}#sk-container-id-1 div.sk-container {/* jupyter's `normalize.less` sets `[hidden] { display: none; }` but bootstrap.min.css set `[hidden] { display: none !important; }` so we also need the `!important` here to be able to override the default hidden behavior on the sphinx rendered scikit-learn.org. See: https://github.com/scikit-learn/scikit-learn/issues/21755 */display: inline-block !important;position: relative;}#sk-container-id-1 div.sk-text-repr-fallback {display: none;}</style><div id=\"sk-container-id-1\" class=\"sk-top-container\"><div class=\"sk-text-repr-fallback\"><pre>DecisionTreeClassifier(criterion=&#x27;entropy&#x27;)</pre><b>In a Jupyter environment, please rerun this cell to show the HTML representation or trust the notebook. <br />On GitHub, the HTML representation is unable to render, please try loading this page with nbviewer.org.</b></div><div class=\"sk-container\" hidden><div class=\"sk-item\"><div class=\"sk-estimator sk-toggleable\"><input class=\"sk-toggleable__control sk-hidden--visually\" id=\"sk-estimator-id-1\" type=\"checkbox\" checked><label for=\"sk-estimator-id-1\" class=\"sk-toggleable__label sk-toggleable__label-arrow\">DecisionTreeClassifier</label><div class=\"sk-toggleable__content\"><pre>DecisionTreeClassifier(criterion=&#x27;entropy&#x27;)</pre></div></div></div></div></div>"
            ]
          },
          "metadata": {},
          "execution_count": 56
        }
      ]
    },
    {
      "cell_type": "code",
      "source": [
        "model.predict(X_train)\n"
      ],
      "metadata": {
        "colab": {
          "base_uri": "https://localhost:8080/"
        },
        "id": "bRpKlG8hIWIM",
        "outputId": "13bd9fab-618a-4fef-d61f-75d371aa08b5"
      },
      "execution_count": null,
      "outputs": [
        {
          "output_type": "execute_result",
          "data": {
            "text/plain": [
              "array([1, 1, 1, 0, 0, 0, 0, 1, 1, 1, 1, 1, 0, 0, 1, 0, 0, 1, 1, 0, 0, 0,\n",
              "       1, 0, 0, 0, 0, 1, 0, 0, 1, 1, 0, 1, 1, 0, 0, 1, 0, 0, 1, 0, 1, 0,\n",
              "       0, 0, 1, 1, 1, 0, 0, 0, 0, 1, 0, 1, 1, 1, 0, 1, 1, 1, 0, 1, 1, 1,\n",
              "       1, 1, 1, 1, 0, 0, 1, 1, 0, 1, 1, 0, 0, 0, 0, 1, 0, 1, 1, 0, 1, 1,\n",
              "       1, 1, 1, 1, 0, 0, 1, 0, 0, 0, 1, 1, 1, 0, 1, 0, 1, 1, 0, 1, 1, 1,\n",
              "       1, 1, 0, 0, 1, 0, 1, 0, 0, 1, 0, 0, 1, 1, 1, 0, 0, 1, 1, 0, 1, 0,\n",
              "       1, 0, 1, 1, 0, 1, 1, 1, 0, 1, 0, 0, 0, 1, 1, 1, 1, 0, 1, 0, 1, 0,\n",
              "       1, 1, 1, 0, 1, 0, 1, 0, 0, 0, 1, 1, 0, 1, 0, 1, 1, 0, 0, 1, 0, 1,\n",
              "       1, 0, 1, 1, 1, 1, 1, 0, 0, 1, 1, 1, 0, 0, 1, 1, 1, 1, 1, 0, 1, 1,\n",
              "       0, 1, 1, 0, 1, 1, 0, 0, 1, 1, 1, 0, 0, 0, 1, 0, 0, 1, 0, 0, 1, 0,\n",
              "       1, 1, 0, 0, 0, 0, 1, 0, 1, 1, 1, 0, 0, 0, 0, 1, 0, 0, 0, 1, 1, 0])"
            ]
          },
          "metadata": {},
          "execution_count": 57
        }
      ]
    },
    {
      "cell_type": "code",
      "source": [
        "Y_train"
      ],
      "metadata": {
        "colab": {
          "base_uri": "https://localhost:8080/"
        },
        "id": "MAOgtXz9IdHb",
        "outputId": "c29b53cc-3b6e-4083-8630-f686af2b9322"
      },
      "execution_count": null,
      "outputs": [
        {
          "output_type": "execute_result",
          "data": {
            "text/plain": [
              "74     1\n",
              "153    1\n",
              "64     1\n",
              "296    0\n",
              "287    0\n",
              "      ..\n",
              "251    0\n",
              "192    0\n",
              "117    1\n",
              "47     1\n",
              "172    0\n",
              "Name: target, Length: 242, dtype: int64"
            ]
          },
          "metadata": {},
          "execution_count": 58
        }
      ]
    },
    {
      "cell_type": "code",
      "source": [
        "model.predict(X_test)"
      ],
      "metadata": {
        "colab": {
          "base_uri": "https://localhost:8080/"
        },
        "id": "6lWCQLUBIrhX",
        "outputId": "c99caa1d-2a00-4307-9da9-30a7697fb8e9"
      },
      "execution_count": null,
      "outputs": [
        {
          "output_type": "execute_result",
          "data": {
            "text/plain": [
              "array([0, 1, 0, 0, 0, 1, 0, 0, 0, 0, 1, 1, 0, 1, 1, 0, 0, 1, 0, 1, 1, 0,\n",
              "       0, 0, 0, 1, 0, 0, 1, 1, 1, 0, 1, 1, 1, 0, 0, 1, 0, 0, 1, 0, 1, 0,\n",
              "       0, 0, 1, 1, 0, 1, 1, 1, 1, 0, 1, 0, 1, 1, 1, 1, 1])"
            ]
          },
          "metadata": {},
          "execution_count": 59
        }
      ]
    },
    {
      "cell_type": "code",
      "source": [
        "Y_test"
      ],
      "metadata": {
        "colab": {
          "base_uri": "https://localhost:8080/"
        },
        "id": "GABGCS52IwBY",
        "outputId": "be4a4b52-01d6-400a-b306-1397c2eb8fff"
      },
      "execution_count": null,
      "outputs": [
        {
          "output_type": "execute_result",
          "data": {
            "text/plain": [
              "225    0\n",
              "152    1\n",
              "228    0\n",
              "201    0\n",
              "52     1\n",
              "      ..\n",
              "146    1\n",
              "302    0\n",
              "26     1\n",
              "108    1\n",
              "89     1\n",
              "Name: target, Length: 61, dtype: int64"
            ]
          },
          "metadata": {},
          "execution_count": 60
        }
      ]
    },
    {
      "cell_type": "code",
      "source": [
        "model.score(X_train,Y_train)"
      ],
      "metadata": {
        "colab": {
          "base_uri": "https://localhost:8080/"
        },
        "id": "7ih7FSXCI0e3",
        "outputId": "6265cbf6-4e19-49cc-ecc5-f2fbd6a01443"
      },
      "execution_count": null,
      "outputs": [
        {
          "output_type": "execute_result",
          "data": {
            "text/plain": [
              "1.0"
            ]
          },
          "metadata": {},
          "execution_count": 61
        }
      ]
    },
    {
      "cell_type": "code",
      "source": [
        "model.score(X_test,Y_test)"
      ],
      "metadata": {
        "colab": {
          "base_uri": "https://localhost:8080/"
        },
        "id": "dLcNKI8NI-QT",
        "outputId": "2ee71acd-90ce-4781-faf6-695b99b3809f"
      },
      "execution_count": null,
      "outputs": [
        {
          "output_type": "execute_result",
          "data": {
            "text/plain": [
              "0.7868852459016393"
            ]
          },
          "metadata": {},
          "execution_count": 62
        }
      ]
    },
    {
      "cell_type": "code",
      "source": [
        "model.score(X_test,Y_test)*100"
      ],
      "metadata": {
        "colab": {
          "base_uri": "https://localhost:8080/"
        },
        "id": "7LlYRQNaJGZ-",
        "outputId": "2e1ad95e-61f6-426e-cf52-bfce0d77fea3"
      },
      "execution_count": null,
      "outputs": [
        {
          "output_type": "execute_result",
          "data": {
            "text/plain": [
              "78.68852459016394"
            ]
          },
          "metadata": {},
          "execution_count": 63
        }
      ]
    },
    {
      "cell_type": "markdown",
      "source": [
        "The accuracy score achieved using Decision Tree is: 78.68 %"
      ],
      "metadata": {
        "id": "Gghg1qPBJc_r"
      }
    },
    {
      "cell_type": "code",
      "source": [
        "from sklearn.tree import DecisionTreeClassifier\n",
        "\n",
        "max_accuracy = 0\n",
        "\n",
        "\n",
        "for x in range(200):\n",
        "    dt = DecisionTreeClassifier(random_state=x)\n",
        "    dt.fit(X_train,Y_train)\n",
        "    Y_pred_dt = dt.predict(X_test)\n",
        "    current_accuracy = round(accuracy_score(Y_pred_dt,Y_test)*100,2)\n",
        "    if(current_accuracy>max_accuracy):\n",
        "        max_accuracy = current_accuracy\n",
        "        best_x = x\n",
        "\n",
        "#print(max_accuracy)\n",
        "#print(best_x)\n",
        "\n",
        "\n",
        "dt = DecisionTreeClassifier(random_state=best_x)\n",
        "dt.fit(X_train,Y_train)\n",
        "Y_pred_dt = dt.predict(X_test)"
      ],
      "metadata": {
        "id": "aGniEMuN-Sl9"
      },
      "execution_count": null,
      "outputs": []
    },
    {
      "cell_type": "code",
      "source": [
        "print(Y_pred_dt.shape)"
      ],
      "metadata": {
        "id": "fOcDMlSL-hjJ",
        "colab": {
          "base_uri": "https://localhost:8080/"
        },
        "outputId": "dfc90387-ced5-441e-aa31-70f94d59f51a"
      },
      "execution_count": null,
      "outputs": [
        {
          "output_type": "stream",
          "name": "stdout",
          "text": [
            "(61,)\n"
          ]
        }
      ]
    },
    {
      "cell_type": "code",
      "source": [
        "score_dt = round(accuracy_score(Y_pred_dt,Y_test)*100,2)\n",
        "\n",
        "print(\"The accuracy score achieved using Decision Tree is: \"+str(score_dt)+\" %\")"
      ],
      "metadata": {
        "id": "ButEkmEE-han",
        "colab": {
          "base_uri": "https://localhost:8080/"
        },
        "outputId": "71f14782-2674-4ae2-d7df-6f8ad3153812"
      },
      "execution_count": null,
      "outputs": [
        {
          "output_type": "stream",
          "name": "stdout",
          "text": [
            "The accuracy score achieved using Decision Tree is: 81.97 %\n"
          ]
        }
      ]
    },
    {
      "cell_type": "markdown",
      "source": [
        "The accuracy score achieved using Decision Tree is: 81.97 %"
      ],
      "metadata": {
        "id": "gG3e69-MQoqv"
      }
    },
    {
      "cell_type": "code",
      "source": [
        "from sklearn import tree\n",
        "tree.plot_tree(model,feature_names=X_train.columns)"
      ],
      "metadata": {
        "colab": {
          "base_uri": "https://localhost:8080/",
          "height": 1000
        },
        "id": "LZ1I2PLBJ6ig",
        "outputId": "ea0a6f11-f81a-41f8-f602-1928f3facb8d"
      },
      "execution_count": null,
      "outputs": [
        {
          "output_type": "execute_result",
          "data": {
            "text/plain": [
              "[Text(0.4203125, 0.9444444444444444, 'cp <= 0.5\\nentropy = 0.995\\nsamples = 242\\nvalue = [111, 131]'),\n",
              " Text(0.24375, 0.8333333333333334, 'ca <= 0.5\\nentropy = 0.858\\nsamples = 117\\nvalue = [84, 33]'),\n",
              " Text(0.1625, 0.7222222222222222, 'thal <= 2.5\\nentropy = 0.991\\nsamples = 54\\nvalue = [24, 30]'),\n",
              " Text(0.075, 0.6111111111111112, 'thalach <= 119.5\\nentropy = 0.799\\nsamples = 33\\nvalue = [8, 25]'),\n",
              " Text(0.05, 0.5, 'entropy = 0.0\\nsamples = 2\\nvalue = [2, 0]'),\n",
              " Text(0.1, 0.5, 'exang <= 0.5\\nentropy = 0.709\\nsamples = 31\\nvalue = [6, 25]'),\n",
              " Text(0.05, 0.3888888888888889, 'chol <= 316.5\\nentropy = 0.297\\nsamples = 19\\nvalue = [1, 18]'),\n",
              " Text(0.025, 0.2777777777777778, 'entropy = 0.0\\nsamples = 17\\nvalue = [0, 17]'),\n",
              " Text(0.075, 0.2777777777777778, 'chol <= 362.0\\nentropy = 1.0\\nsamples = 2\\nvalue = [1, 1]'),\n",
              " Text(0.05, 0.16666666666666666, 'entropy = 0.0\\nsamples = 1\\nvalue = [1, 0]'),\n",
              " Text(0.1, 0.16666666666666666, 'entropy = 0.0\\nsamples = 1\\nvalue = [0, 1]'),\n",
              " Text(0.15, 0.3888888888888889, 'restecg <= 0.5\\nentropy = 0.98\\nsamples = 12\\nvalue = [5, 7]'),\n",
              " Text(0.125, 0.2777777777777778, 'entropy = 0.0\\nsamples = 4\\nvalue = [0, 4]'),\n",
              " Text(0.175, 0.2777777777777778, 'chol <= 320.0\\nentropy = 0.954\\nsamples = 8\\nvalue = [5, 3]'),\n",
              " Text(0.15, 0.16666666666666666, 'trestbps <= 115.0\\nentropy = 0.65\\nsamples = 6\\nvalue = [5, 1]'),\n",
              " Text(0.125, 0.05555555555555555, 'entropy = 0.0\\nsamples = 1\\nvalue = [0, 1]'),\n",
              " Text(0.175, 0.05555555555555555, 'entropy = 0.0\\nsamples = 5\\nvalue = [5, 0]'),\n",
              " Text(0.2, 0.16666666666666666, 'entropy = 0.0\\nsamples = 2\\nvalue = [0, 2]'),\n",
              " Text(0.25, 0.6111111111111112, 'oldpeak <= 0.65\\nentropy = 0.792\\nsamples = 21\\nvalue = [16, 5]'),\n",
              " Text(0.225, 0.5, 'age <= 42.0\\nentropy = 0.991\\nsamples = 9\\nvalue = [4, 5]'),\n",
              " Text(0.2, 0.3888888888888889, 'entropy = 0.0\\nsamples = 3\\nvalue = [3, 0]'),\n",
              " Text(0.25, 0.3888888888888889, 'sex <= 0.5\\nentropy = 0.65\\nsamples = 6\\nvalue = [1, 5]'),\n",
              " Text(0.225, 0.2777777777777778, 'entropy = 0.0\\nsamples = 1\\nvalue = [1, 0]'),\n",
              " Text(0.275, 0.2777777777777778, 'entropy = 0.0\\nsamples = 5\\nvalue = [0, 5]'),\n",
              " Text(0.275, 0.5, 'entropy = 0.0\\nsamples = 12\\nvalue = [12, 0]'),\n",
              " Text(0.325, 0.7222222222222222, 'age <= 63.5\\nentropy = 0.276\\nsamples = 63\\nvalue = [60, 3]'),\n",
              " Text(0.3, 0.6111111111111112, 'entropy = 0.0\\nsamples = 47\\nvalue = [47, 0]'),\n",
              " Text(0.35, 0.6111111111111112, 'restecg <= 0.5\\nentropy = 0.696\\nsamples = 16\\nvalue = [13, 3]'),\n",
              " Text(0.325, 0.5, 'entropy = 0.0\\nsamples = 10\\nvalue = [10, 0]'),\n",
              " Text(0.375, 0.5, 'fbs <= 0.5\\nentropy = 1.0\\nsamples = 6\\nvalue = [3, 3]'),\n",
              " Text(0.35, 0.3888888888888889, 'entropy = 0.0\\nsamples = 3\\nvalue = [0, 3]'),\n",
              " Text(0.4, 0.3888888888888889, 'entropy = 0.0\\nsamples = 3\\nvalue = [3, 0]'),\n",
              " Text(0.596875, 0.8333333333333334, 'sex <= 0.5\\nentropy = 0.753\\nsamples = 125\\nvalue = [27, 98]'),\n",
              " Text(0.425, 0.7222222222222222, 'ca <= 1.5\\nentropy = 0.149\\nsamples = 47\\nvalue = [1, 46]'),\n",
              " Text(0.4, 0.6111111111111112, 'entropy = 0.0\\nsamples = 43\\nvalue = [0, 43]'),\n",
              " Text(0.45, 0.6111111111111112, 'restecg <= 0.5\\nentropy = 0.811\\nsamples = 4\\nvalue = [1, 3]'),\n",
              " Text(0.425, 0.5, 'entropy = 0.0\\nsamples = 1\\nvalue = [1, 0]'),\n",
              " Text(0.475, 0.5, 'entropy = 0.0\\nsamples = 3\\nvalue = [0, 3]'),\n",
              " Text(0.76875, 0.7222222222222222, 'age <= 56.5\\nentropy = 0.918\\nsamples = 78\\nvalue = [26, 52]'),\n",
              " Text(0.6125, 0.6111111111111112, 'thalach <= 148.5\\nentropy = 0.688\\nsamples = 49\\nvalue = [9, 40]'),\n",
              " Text(0.525, 0.5, 'age <= 50.0\\nentropy = 0.863\\nsamples = 7\\nvalue = [5, 2]'),\n",
              " Text(0.5, 0.3888888888888889, 'entropy = 0.0\\nsamples = 4\\nvalue = [4, 0]'),\n",
              " Text(0.55, 0.3888888888888889, 'exang <= 0.5\\nentropy = 0.918\\nsamples = 3\\nvalue = [1, 2]'),\n",
              " Text(0.525, 0.2777777777777778, 'entropy = 0.0\\nsamples = 2\\nvalue = [0, 2]'),\n",
              " Text(0.575, 0.2777777777777778, 'entropy = 0.0\\nsamples = 1\\nvalue = [1, 0]'),\n",
              " Text(0.7, 0.5, 'oldpeak <= 3.65\\nentropy = 0.454\\nsamples = 42\\nvalue = [4, 38]'),\n",
              " Text(0.675, 0.3888888888888889, 'trestbps <= 111.0\\nentropy = 0.378\\nsamples = 41\\nvalue = [3, 38]'),\n",
              " Text(0.625, 0.2777777777777778, 'age <= 49.5\\nentropy = 0.971\\nsamples = 5\\nvalue = [2, 3]'),\n",
              " Text(0.6, 0.16666666666666666, 'chol <= 213.0\\nentropy = 0.918\\nsamples = 3\\nvalue = [2, 1]'),\n",
              " Text(0.575, 0.05555555555555555, 'entropy = 0.0\\nsamples = 1\\nvalue = [0, 1]'),\n",
              " Text(0.625, 0.05555555555555555, 'entropy = 0.0\\nsamples = 2\\nvalue = [2, 0]'),\n",
              " Text(0.65, 0.16666666666666666, 'entropy = 0.0\\nsamples = 2\\nvalue = [0, 2]'),\n",
              " Text(0.725, 0.2777777777777778, 'trestbps <= 172.0\\nentropy = 0.183\\nsamples = 36\\nvalue = [1, 35]'),\n",
              " Text(0.7, 0.16666666666666666, 'entropy = 0.0\\nsamples = 35\\nvalue = [0, 35]'),\n",
              " Text(0.75, 0.16666666666666666, 'entropy = 0.0\\nsamples = 1\\nvalue = [1, 0]'),\n",
              " Text(0.725, 0.3888888888888889, 'entropy = 0.0\\nsamples = 1\\nvalue = [1, 0]'),\n",
              " Text(0.925, 0.6111111111111112, 'chol <= 279.5\\nentropy = 0.978\\nsamples = 29\\nvalue = [17, 12]'),\n",
              " Text(0.9, 0.5, 'ca <= 0.5\\nentropy = 0.999\\nsamples = 25\\nvalue = [13, 12]'),\n",
              " Text(0.85, 0.3888888888888889, 'age <= 65.5\\nentropy = 0.89\\nsamples = 13\\nvalue = [4, 9]'),\n",
              " Text(0.825, 0.2777777777777778, 'chol <= 252.0\\nentropy = 0.684\\nsamples = 11\\nvalue = [2, 9]'),\n",
              " Text(0.8, 0.16666666666666666, 'entropy = 0.0\\nsamples = 8\\nvalue = [0, 8]'),\n",
              " Text(0.85, 0.16666666666666666, 'thalach <= 143.0\\nentropy = 0.918\\nsamples = 3\\nvalue = [2, 1]'),\n",
              " Text(0.825, 0.05555555555555555, 'entropy = 0.0\\nsamples = 2\\nvalue = [2, 0]'),\n",
              " Text(0.875, 0.05555555555555555, 'entropy = 0.0\\nsamples = 1\\nvalue = [0, 1]'),\n",
              " Text(0.875, 0.2777777777777778, 'entropy = 0.0\\nsamples = 2\\nvalue = [2, 0]'),\n",
              " Text(0.95, 0.3888888888888889, 'oldpeak <= 1.5\\nentropy = 0.811\\nsamples = 12\\nvalue = [9, 3]'),\n",
              " Text(0.925, 0.2777777777777778, 'trestbps <= 126.5\\nentropy = 0.985\\nsamples = 7\\nvalue = [4, 3]'),\n",
              " Text(0.9, 0.16666666666666666, 'entropy = 0.0\\nsamples = 2\\nvalue = [0, 2]'),\n",
              " Text(0.95, 0.16666666666666666, 'fbs <= 0.5\\nentropy = 0.722\\nsamples = 5\\nvalue = [4, 1]'),\n",
              " Text(0.925, 0.05555555555555555, 'entropy = 0.0\\nsamples = 4\\nvalue = [4, 0]'),\n",
              " Text(0.975, 0.05555555555555555, 'entropy = 0.0\\nsamples = 1\\nvalue = [0, 1]'),\n",
              " Text(0.975, 0.2777777777777778, 'entropy = 0.0\\nsamples = 5\\nvalue = [5, 0]'),\n",
              " Text(0.95, 0.5, 'entropy = 0.0\\nsamples = 4\\nvalue = [4, 0]')]"
            ]
          },
          "metadata": {},
          "execution_count": 64
        },
        {
          "output_type": "display_data",
          "data": {
            "text/plain": [
              "<Figure size 640x480 with 1 Axes>"
            ],
            "image/png": "[encoded data removed]"
          },
          "metadata": {}
        }
      ]
    },
    {
      "cell_type": "markdown",
      "source": [
        "**Gradient Boosting Decision Tree**"
      ],
      "metadata": {
        "id": "5IaHSin9KiDK"
      }
    },
    {
      "cell_type": "code",
      "source": [
        "from sklearn.ensemble import GradientBoostingClassifier\n",
        "gbdt=GradientBoostingClassifier(n_estimators=100)\n",
        "gbdt.fit(X_train,Y_train)"
      ],
      "metadata": {
        "colab": {
          "base_uri": "https://localhost:8080/",
          "height": 74
        },
        "id": "S-M7EgrMKglD",
        "outputId": "398573ec-232b-4640-9393-5a99d7490e73"
      },
      "execution_count": null,
      "outputs": [
        {
          "output_type": "execute_result",
          "data": {
            "text/plain": [
              "GradientBoostingClassifier()"
            ],
            "text/html": [
              "<style>#sk-container-id-2 {color: black;background-color: white;}#sk-container-id-2 pre{padding: 0;}#sk-container-id-2 div.sk-toggleable {background-color: white;}#sk-container-id-2 label.sk-toggleable__label {cursor: pointer;display: block;width: 100%;margin-bottom: 0;padding: 0.3em;box-sizing: border-box;text-align: center;}#sk-container-id-2 label.sk-toggleable__label-arrow:before {content: \"▸\";float: left;margin-right: 0.25em;color: #696969;}#sk-container-id-2 label.sk-toggleable__label-arrow:hover:before {color: black;}#sk-container-id-2 div.sk-estimator:hover label.sk-toggleable__label-arrow:before {color: black;}#sk-container-id-2 div.sk-toggleable__content {max-height: 0;max-width: 0;overflow: hidden;text-align: left;background-color: #f0f8ff;}#sk-container-id-2 div.sk-toggleable__content pre {margin: 0.2em;color: black;border-radius: 0.25em;background-color: #f0f8ff;}#sk-container-id-2 input.sk-toggleable__control:checked~div.sk-toggleable__content {max-height: 200px;max-width: 100%;overflow: auto;}#sk-container-id-2 input.sk-toggleable__control:checked~label.sk-toggleable__label-arrow:before {content: \"▾\";}#sk-container-id-2 div.sk-estimator input.sk-toggleable__control:checked~label.sk-toggleable__label {background-color: #d4ebff;}#sk-container-id-2 div.sk-label input.sk-toggleable__control:checked~label.sk-toggleable__label {background-color: #d4ebff;}#sk-container-id-2 input.sk-hidden--visually {border: 0;clip: rect(1px 1px 1px 1px);clip: rect(1px, 1px, 1px, 1px);height: 1px;margin: -1px;overflow: hidden;padding: 0;position: absolute;width: 1px;}#sk-container-id-2 div.sk-estimator {font-family: monospace;background-color: #f0f8ff;border: 1px dotted black;border-radius: 0.25em;box-sizing: border-box;margin-bottom: 0.5em;}#sk-container-id-2 div.sk-estimator:hover {background-color: #d4ebff;}#sk-container-id-2 div.sk-parallel-item::after {content: \"\";width: 100%;border-bottom: 1px solid gray;flex-grow: 1;}#sk-container-id-2 div.sk-label:hover label.sk-toggleable__label {background-color: #d4ebff;}#sk-container-id-2 div.sk-serial::before {content: \"\";position: absolute;border-left: 1px solid gray;box-sizing: border-box;top: 0;bottom: 0;left: 50%;z-index: 0;}#sk-container-id-2 div.sk-serial {display: flex;flex-direction: column;align-items: center;background-color: white;padding-right: 0.2em;padding-left: 0.2em;position: relative;}#sk-container-id-2 div.sk-item {position: relative;z-index: 1;}#sk-container-id-2 div.sk-parallel {display: flex;align-items: stretch;justify-content: center;background-color: white;position: relative;}#sk-container-id-2 div.sk-item::before, #sk-container-id-2 div.sk-parallel-item::before {content: \"\";position: absolute;border-left: 1px solid gray;box-sizing: border-box;top: 0;bottom: 0;left: 50%;z-index: -1;}#sk-container-id-2 div.sk-parallel-item {display: flex;flex-direction: column;z-index: 1;position: relative;background-color: white;}#sk-container-id-2 div.sk-parallel-item:first-child::after {align-self: flex-end;width: 50%;}#sk-container-id-2 div.sk-parallel-item:last-child::after {align-self: flex-start;width: 50%;}#sk-container-id-2 div.sk-parallel-item:only-child::after {width: 0;}#sk-container-id-2 div.sk-dashed-wrapped {border: 1px dashed gray;margin: 0 0.4em 0.5em 0.4em;box-sizing: border-box;padding-bottom: 0.4em;background-color: white;}#sk-container-id-2 div.sk-label label {font-family: monospace;font-weight: bold;display: inline-block;line-height: 1.2em;}#sk-container-id-2 div.sk-label-container {text-align: center;}#sk-container-id-2 div.sk-container {/* jupyter's `normalize.less` sets `[hidden] { display: none; }` but bootstrap.min.css set `[hidden] { display: none !important; }` so we also need the `!important` here to be able to override the default hidden behavior on the sphinx rendered scikit-learn.org. See: https://github.com/scikit-learn/scikit-learn/issues/21755 */display: inline-block !important;position: relative;}#sk-container-id-2 div.sk-text-repr-fallback {display: none;}</style><div id=\"sk-container-id-2\" class=\"sk-top-container\"><div class=\"sk-text-repr-fallback\"><pre>GradientBoostingClassifier()</pre><b>In a Jupyter environment, please rerun this cell to show the HTML representation or trust the notebook. <br />On GitHub, the HTML representation is unable to render, please try loading this page with nbviewer.org.</b></div><div class=\"sk-container\" hidden><div class=\"sk-item\"><div class=\"sk-estimator sk-toggleable\"><input class=\"sk-toggleable__control sk-hidden--visually\" id=\"sk-estimator-id-2\" type=\"checkbox\" checked><label for=\"sk-estimator-id-2\" class=\"sk-toggleable__label sk-toggleable__label-arrow\">GradientBoostingClassifier</label><div class=\"sk-toggleable__content\"><pre>GradientBoostingClassifier()</pre></div></div></div></div></div>"
            ]
          },
          "metadata": {},
          "execution_count": 65
        }
      ]
    },
    {
      "cell_type": "code",
      "source": [
        "gbdt.score(X_train,Y_train)"
      ],
      "metadata": {
        "colab": {
          "base_uri": "https://localhost:8080/"
        },
        "id": "zRo1h-goLbls",
        "outputId": "6ee9384e-27ae-47f9-dd30-b1e8e1b26910"
      },
      "execution_count": null,
      "outputs": [
        {
          "output_type": "execute_result",
          "data": {
            "text/plain": [
              "1.0"
            ]
          },
          "metadata": {},
          "execution_count": 66
        }
      ]
    },
    {
      "cell_type": "code",
      "source": [
        "gbdt.score(X_test,Y_test)*100"
      ],
      "metadata": {
        "colab": {
          "base_uri": "https://localhost:8080/"
        },
        "id": "zpcZ3oWeLjMK",
        "outputId": "63ee8f23-68d7-439d-a21c-f605b7df4d26"
      },
      "execution_count": null,
      "outputs": [
        {
          "output_type": "execute_result",
          "data": {
            "text/plain": [
              "80.32786885245902"
            ]
          },
          "metadata": {},
          "execution_count": 67
        }
      ]
    },
    {
      "cell_type": "markdown",
      "source": [
        "The accuracy score achieved is: 80.32 %"
      ],
      "metadata": {
        "id": "Cll_MwguLwq6"
      }
    },
    {
      "cell_type": "markdown",
      "source": [
        "**Random Forest**"
      ],
      "metadata": {
        "id": "pdqIW32uQuB7"
      }
    },
    {
      "cell_type": "code",
      "source": [
        "from sklearn.ensemble import RandomForestClassifier\n",
        "\n",
        "max_accuracy = 0\n",
        "\n",
        "\n",
        "for x in range(2000):\n",
        "    rf = RandomForestClassifier(random_state=x)\n",
        "    rf.fit(X_train,Y_train)\n",
        "    Y_pred_rf = rf.predict(X_test)\n",
        "    current_accuracy = round(accuracy_score(Y_pred_rf,Y_test)*100,2)\n",
        "    if(current_accuracy>max_accuracy):\n",
        "        max_accuracy = current_accuracy\n",
        "        best_x = x\n",
        "\n",
        "#print(max_accuracy)\n",
        "#print(best_x)\n",
        "\n",
        "rf = RandomForestClassifier(random_state=best_x)\n",
        "rf.fit(X_train,Y_train)\n",
        "Y_pred_rf = rf.predict(X_test)"
      ],
      "metadata": {
        "id": "Qf7gd3RK-hOy"
      },
      "execution_count": null,
      "outputs": []
    },
    {
      "cell_type": "code",
      "source": [
        "Y_pred_rf.shape"
      ],
      "metadata": {
        "id": "3i7plHlA9lxy",
        "colab": {
          "base_uri": "https://localhost:8080/"
        },
        "outputId": "00f1ffcb-4381-4d75-8fa5-942b18ebfe4e"
      },
      "execution_count": null,
      "outputs": [
        {
          "output_type": "execute_result",
          "data": {
            "text/plain": [
              "(61,)"
            ]
          },
          "metadata": {},
          "execution_count": 69
        }
      ]
    },
    {
      "cell_type": "code",
      "source": [
        "score_rf = round(accuracy_score(Y_pred_rf,Y_test)*100,2)\n",
        "\n",
        "print(\"The accuracy score achieved using Decision Tree is: \"+str(score_rf)+\" %\")"
      ],
      "metadata": {
        "id": "aCW-aenb9mHn",
        "colab": {
          "base_uri": "https://localhost:8080/"
        },
        "outputId": "79dd15d2-7772-4458-e046-948e710808c1"
      },
      "execution_count": null,
      "outputs": [
        {
          "output_type": "stream",
          "name": "stdout",
          "text": [
            "The accuracy score achieved using Decision Tree is: 90.16 %\n"
          ]
        }
      ]
    },
    {
      "cell_type": "markdown",
      "source": [
        "The accuracy score achieved using Random Forest is: 95.08 %"
      ],
      "metadata": {
        "id": "7cJ4y8SaQ2Jo"
      }
    },
    {
      "cell_type": "markdown",
      "source": [
        "**Neural Network**"
      ],
      "metadata": {
        "id": "0xLK9FBiRCr-"
      }
    },
    {
      "cell_type": "code",
      "source": [
        "from tensorflow.keras import Sequential\n",
        "from tensorflow.keras.layers import Dense\n",
        "model_nn=Sequential()\n",
        "model_nn.add(Dense(10,activation='relu',input_shape=(13,)))\n",
        "model_nn.add(Dense(5,activation='relu'))\n",
        "\n",
        "model_nn.add(Dense(1,activation='sigmoid'))\n",
        "\n",
        "model_nn.summary()\n",
        "model_nn.compile(loss='binary_crossentropy',metrics=['accuracy'])"
      ],
      "metadata": {
        "id": "VHzija1wAfyL",
        "colab": {
          "base_uri": "https://localhost:8080/"
        },
        "outputId": "106bf4c9-21bb-4275-c7c4-b7be25aeffd3"
      },
      "execution_count": null,
      "outputs": [
        {
          "output_type": "stream",
          "name": "stdout",
          "text": [
            "Model: \"sequential_2\"\n",
            "_________________________________________________________________\n",
            " Layer (type)                Output Shape              Param #   \n",
            "=================================================================\n",
            " dense_8 (Dense)             (None, 10)                140       \n",
            "                                                                 \n",
            " dense_9 (Dense)             (None, 5)                 55        \n",
            "                                                                 \n",
            " dense_10 (Dense)            (None, 1)                 6         \n",
            "                                                                 \n",
            "=================================================================\n",
            "Total params: 201 (804.00 Byte)\n",
            "Trainable params: 201 (804.00 Byte)\n",
            "Non-trainable params: 0 (0.00 Byte)\n",
            "_________________________________________________________________\n"
          ]
        }
      ]
    },
    {
      "cell_type": "code",
      "source": [
        "model_nn.fit(X_train,Y_train,epochs=150)"
      ],
      "metadata": {
        "id": "Ha4BgIhoAgJ_",
        "colab": {
          "base_uri": "https://localhost:8080/"
        },
        "outputId": "fa01ddc4-0308-43ab-dd01-5c4c55c2fef6"
      },
      "execution_count": null,
      "outputs": [
        {
          "output_type": "stream",
          "name": "stdout",
          "text": [
            "Epoch 1/150\n",
            "8/8 [==============================] - 0s 6ms/step - loss: 0.3600 - accuracy: 0.8471\n",
            "Epoch 2/150\n",
            "8/8 [==============================] - 0s 7ms/step - loss: 0.3762 - accuracy: 0.8388\n",
            "Epoch 3/150\n",
            "8/8 [==============================] - 0s 6ms/step - loss: 0.3675 - accuracy: 0.8223\n",
            "Epoch 4/150\n",
            "8/8 [==============================] - 0s 6ms/step - loss: 0.3689 - accuracy: 0.8140\n",
            "Epoch 5/150\n",
            "8/8 [==============================] - 0s 7ms/step - loss: 0.3657 - accuracy: 0.8471\n",
            "Epoch 6/150\n",
            "8/8 [==============================] - 0s 7ms/step - loss: 0.3701 - accuracy: 0.8306\n",
            "Epoch 7/150\n",
            "8/8 [==============================] - 0s 5ms/step - loss: 0.3686 - accuracy: 0.8347\n",
            "Epoch 8/150\n",
            "8/8 [==============================] - 0s 6ms/step - loss: 0.3627 - accuracy: 0.8430\n",
            "Epoch 9/150\n",
            "8/8 [==============================] - 0s 6ms/step - loss: 0.3460 - accuracy: 0.8471\n",
            "Epoch 10/150\n",
            "8/8 [==============================] - 0s 5ms/step - loss: 0.3710 - accuracy: 0.8182\n",
            "Epoch 11/150\n",
            "8/8 [==============================] - 0s 6ms/step - loss: 0.3832 - accuracy: 0.8182\n",
            "Epoch 12/150\n",
            "8/8 [==============================] - 0s 7ms/step - loss: 0.3678 - accuracy: 0.8347\n",
            "Epoch 13/150\n",
            "8/8 [==============================] - 0s 6ms/step - loss: 0.3589 - accuracy: 0.8430\n",
            "Epoch 14/150\n",
            "8/8 [==============================] - 0s 6ms/step - loss: 0.3592 - accuracy: 0.8306\n",
            "Epoch 15/150\n",
            "8/8 [==============================] - 0s 6ms/step - loss: 0.3598 - accuracy: 0.8306\n",
            "Epoch 16/150\n",
            "8/8 [==============================] - 0s 6ms/step - loss: 0.3687 - accuracy: 0.8182\n",
            "Epoch 17/150\n",
            "8/8 [==============================] - 0s 8ms/step - loss: 0.3652 - accuracy: 0.8347\n",
            "Epoch 18/150\n",
            "8/8 [==============================] - 0s 10ms/step - loss: 0.3552 - accuracy: 0.8636\n",
            "Epoch 19/150\n",
            "8/8 [==============================] - 0s 6ms/step - loss: 0.3782 - accuracy: 0.8306\n",
            "Epoch 20/150\n",
            "8/8 [==============================] - 0s 5ms/step - loss: 0.3609 - accuracy: 0.8264\n",
            "Epoch 21/150\n",
            "8/8 [==============================] - 0s 6ms/step - loss: 0.3704 - accuracy: 0.8430\n",
            "Epoch 22/150\n",
            "8/8 [==============================] - 0s 10ms/step - loss: 0.3677 - accuracy: 0.8388\n",
            "Epoch 23/150\n",
            "8/8 [==============================] - 0s 6ms/step - loss: 0.3642 - accuracy: 0.8347\n",
            "Epoch 24/150\n",
            "8/8 [==============================] - 0s 6ms/step - loss: 0.3599 - accuracy: 0.8306\n",
            "Epoch 25/150\n",
            "8/8 [==============================] - 0s 6ms/step - loss: 0.3731 - accuracy: 0.8140\n",
            "Epoch 26/150\n",
            "8/8 [==============================] - 0s 6ms/step - loss: 0.3873 - accuracy: 0.8347\n",
            "Epoch 27/150\n",
            "8/8 [==============================] - 0s 6ms/step - loss: 0.3631 - accuracy: 0.8471\n",
            "Epoch 28/150\n",
            "8/8 [==============================] - 0s 5ms/step - loss: 0.3714 - accuracy: 0.8512\n",
            "Epoch 29/150\n",
            "8/8 [==============================] - 0s 5ms/step - loss: 0.3737 - accuracy: 0.8264\n",
            "Epoch 30/150\n",
            "8/8 [==============================] - 0s 4ms/step - loss: 0.3635 - accuracy: 0.8058\n",
            "Epoch 31/150\n",
            "8/8 [==============================] - 0s 4ms/step - loss: 0.3695 - accuracy: 0.8388\n",
            "Epoch 32/150\n",
            "8/8 [==============================] - 0s 4ms/step - loss: 0.3846 - accuracy: 0.8306\n",
            "Epoch 33/150\n",
            "8/8 [==============================] - 0s 4ms/step - loss: 0.3735 - accuracy: 0.8306\n",
            "Epoch 34/150\n",
            "8/8 [==============================] - 0s 4ms/step - loss: 0.3835 - accuracy: 0.8223\n",
            "Epoch 35/150\n",
            "8/8 [==============================] - 0s 4ms/step - loss: 0.3717 - accuracy: 0.8347\n",
            "Epoch 36/150\n",
            "8/8 [==============================] - 0s 4ms/step - loss: 0.3681 - accuracy: 0.8264\n",
            "Epoch 37/150\n",
            "8/8 [==============================] - 0s 4ms/step - loss: 0.3680 - accuracy: 0.8388\n",
            "Epoch 38/150\n",
            "8/8 [==============================] - 0s 4ms/step - loss: 0.3653 - accuracy: 0.8388\n",
            "Epoch 39/150\n",
            "8/8 [==============================] - 0s 4ms/step - loss: 0.3699 - accuracy: 0.8388\n",
            "Epoch 40/150\n",
            "8/8 [==============================] - 0s 4ms/step - loss: 0.3811 - accuracy: 0.8306\n",
            "Epoch 41/150\n",
            "8/8 [==============================] - 0s 4ms/step - loss: 0.3521 - accuracy: 0.8471\n",
            "Epoch 42/150\n",
            "8/8 [==============================] - 0s 4ms/step - loss: 0.3644 - accuracy: 0.8595\n",
            "Epoch 43/150\n",
            "8/8 [==============================] - 0s 4ms/step - loss: 0.3570 - accuracy: 0.8430\n",
            "Epoch 44/150\n",
            "8/8 [==============================] - 0s 4ms/step - loss: 0.3612 - accuracy: 0.8347\n",
            "Epoch 45/150\n",
            "8/8 [==============================] - 0s 4ms/step - loss: 0.3766 - accuracy: 0.8306\n",
            "Epoch 46/150\n",
            "8/8 [==============================] - 0s 4ms/step - loss: 0.3603 - accuracy: 0.8347\n",
            "Epoch 47/150\n",
            "8/8 [==============================] - 0s 5ms/step - loss: 0.3683 - accuracy: 0.8347\n",
            "Epoch 48/150\n",
            "8/8 [==============================] - 0s 4ms/step - loss: 0.3569 - accuracy: 0.8388\n",
            "Epoch 49/150\n",
            "8/8 [==============================] - 0s 4ms/step - loss: 0.3683 - accuracy: 0.8388\n",
            "Epoch 50/150\n",
            "8/8 [==============================] - 0s 5ms/step - loss: 0.3744 - accuracy: 0.8347\n",
            "Epoch 51/150\n",
            "8/8 [==============================] - 0s 4ms/step - loss: 0.3669 - accuracy: 0.8347\n",
            "Epoch 52/150\n",
            "8/8 [==============================] - 0s 4ms/step - loss: 0.3628 - accuracy: 0.8306\n",
            "Epoch 53/150\n",
            "8/8 [==============================] - 0s 4ms/step - loss: 0.3716 - accuracy: 0.8347\n",
            "Epoch 54/150\n",
            "8/8 [==============================] - 0s 5ms/step - loss: 0.3696 - accuracy: 0.8099\n",
            "Epoch 55/150\n",
            "8/8 [==============================] - 0s 4ms/step - loss: 0.3821 - accuracy: 0.8058\n",
            "Epoch 56/150\n",
            "8/8 [==============================] - 0s 4ms/step - loss: 0.3646 - accuracy: 0.8471\n",
            "Epoch 57/150\n",
            "8/8 [==============================] - 0s 4ms/step - loss: 0.3655 - accuracy: 0.8430\n",
            "Epoch 58/150\n",
            "8/8 [==============================] - 0s 4ms/step - loss: 0.3507 - accuracy: 0.8264\n",
            "Epoch 59/150\n",
            "8/8 [==============================] - 0s 4ms/step - loss: 0.3680 - accuracy: 0.8471\n",
            "Epoch 60/150\n",
            "8/8 [==============================] - 0s 4ms/step - loss: 0.3649 - accuracy: 0.8264\n",
            "Epoch 61/150\n",
            "8/8 [==============================] - 0s 4ms/step - loss: 0.3746 - accuracy: 0.8347\n",
            "Epoch 62/150\n",
            "8/8 [==============================] - 0s 4ms/step - loss: 0.3583 - accuracy: 0.8430\n",
            "Epoch 63/150\n",
            "8/8 [==============================] - 0s 4ms/step - loss: 0.3615 - accuracy: 0.8430\n",
            "Epoch 64/150\n",
            "8/8 [==============================] - 0s 4ms/step - loss: 0.3567 - accuracy: 0.8306\n",
            "Epoch 65/150\n",
            "8/8 [==============================] - 0s 4ms/step - loss: 0.3679 - accuracy: 0.8430\n",
            "Epoch 66/150\n",
            "8/8 [==============================] - 0s 4ms/step - loss: 0.3857 - accuracy: 0.8347\n",
            "Epoch 67/150\n",
            "8/8 [==============================] - 0s 4ms/step - loss: 0.3632 - accuracy: 0.8430\n",
            "Epoch 68/150\n",
            "8/8 [==============================] - 0s 4ms/step - loss: 0.3838 - accuracy: 0.8223\n",
            "Epoch 69/150\n",
            "8/8 [==============================] - 0s 4ms/step - loss: 0.3619 - accuracy: 0.8347\n",
            "Epoch 70/150\n",
            "8/8 [==============================] - 0s 4ms/step - loss: 0.3741 - accuracy: 0.8182\n",
            "Epoch 71/150\n",
            "8/8 [==============================] - 0s 4ms/step - loss: 0.3563 - accuracy: 0.8388\n",
            "Epoch 72/150\n",
            "8/8 [==============================] - 0s 4ms/step - loss: 0.3736 - accuracy: 0.8347\n",
            "Epoch 73/150\n",
            "8/8 [==============================] - 0s 4ms/step - loss: 0.3699 - accuracy: 0.8306\n",
            "Epoch 74/150\n",
            "8/8 [==============================] - 0s 4ms/step - loss: 0.3774 - accuracy: 0.8099\n",
            "Epoch 75/150\n",
            "8/8 [==============================] - 0s 4ms/step - loss: 0.3719 - accuracy: 0.8306\n",
            "Epoch 76/150\n",
            "8/8 [==============================] - 0s 4ms/step - loss: 0.3657 - accuracy: 0.8347\n",
            "Epoch 77/150\n",
            "8/8 [==============================] - 0s 4ms/step - loss: 0.3738 - accuracy: 0.8140\n",
            "Epoch 78/150\n",
            "8/8 [==============================] - 0s 4ms/step - loss: 0.3571 - accuracy: 0.8347\n",
            "Epoch 79/150\n",
            "8/8 [==============================] - 0s 5ms/step - loss: 0.3568 - accuracy: 0.8388\n",
            "Epoch 80/150\n",
            "8/8 [==============================] - 0s 5ms/step - loss: 0.3749 - accuracy: 0.8182\n",
            "Epoch 81/150\n",
            "8/8 [==============================] - 0s 4ms/step - loss: 0.3803 - accuracy: 0.8306\n",
            "Epoch 82/150\n",
            "8/8 [==============================] - 0s 4ms/step - loss: 0.3681 - accuracy: 0.8306\n",
            "Epoch 83/150\n",
            "8/8 [==============================] - 0s 4ms/step - loss: 0.3581 - accuracy: 0.8430\n",
            "Epoch 84/150\n",
            "8/8 [==============================] - 0s 4ms/step - loss: 0.3490 - accuracy: 0.8471\n",
            "Epoch 85/150\n",
            "8/8 [==============================] - 0s 4ms/step - loss: 0.3665 - accuracy: 0.8264\n",
            "Epoch 86/150\n",
            "8/8 [==============================] - 0s 4ms/step - loss: 0.3769 - accuracy: 0.8182\n",
            "Epoch 87/150\n",
            "8/8 [==============================] - 0s 4ms/step - loss: 0.3684 - accuracy: 0.8099\n",
            "Epoch 88/150\n",
            "8/8 [==============================] - 0s 4ms/step - loss: 0.3580 - accuracy: 0.8388\n",
            "Epoch 89/150\n",
            "8/8 [==============================] - 0s 5ms/step - loss: 0.3628 - accuracy: 0.8347\n",
            "Epoch 90/150\n",
            "8/8 [==============================] - 0s 4ms/step - loss: 0.3682 - accuracy: 0.8347\n",
            "Epoch 91/150\n",
            "8/8 [==============================] - 0s 4ms/step - loss: 0.3854 - accuracy: 0.8347\n",
            "Epoch 92/150\n",
            "8/8 [==============================] - 0s 7ms/step - loss: 0.3660 - accuracy: 0.8388\n",
            "Epoch 93/150\n",
            "8/8 [==============================] - 0s 6ms/step - loss: 0.3716 - accuracy: 0.8388\n",
            "Epoch 94/150\n",
            "8/8 [==============================] - 0s 5ms/step - loss: 0.3713 - accuracy: 0.8554\n",
            "Epoch 95/150\n",
            "8/8 [==============================] - 0s 7ms/step - loss: 0.3691 - accuracy: 0.8264\n",
            "Epoch 96/150\n",
            "8/8 [==============================] - 0s 5ms/step - loss: 0.3633 - accuracy: 0.8347\n",
            "Epoch 97/150\n",
            "8/8 [==============================] - 0s 7ms/step - loss: 0.3577 - accuracy: 0.8512\n",
            "Epoch 98/150\n",
            "8/8 [==============================] - 0s 6ms/step - loss: 0.3705 - accuracy: 0.8264\n",
            "Epoch 99/150\n",
            "8/8 [==============================] - 0s 6ms/step - loss: 0.3648 - accuracy: 0.8512\n",
            "Epoch 100/150\n",
            "8/8 [==============================] - 0s 7ms/step - loss: 0.3599 - accuracy: 0.8388\n",
            "Epoch 101/150\n",
            "8/8 [==============================] - 0s 6ms/step - loss: 0.3738 - accuracy: 0.8182\n",
            "Epoch 102/150\n",
            "8/8 [==============================] - 0s 6ms/step - loss: 0.3796 - accuracy: 0.8347\n",
            "Epoch 103/150\n",
            "8/8 [==============================] - 0s 5ms/step - loss: 0.3673 - accuracy: 0.8512\n",
            "Epoch 104/150\n",
            "8/8 [==============================] - 0s 5ms/step - loss: 0.3607 - accuracy: 0.8388\n",
            "Epoch 105/150\n",
            "8/8 [==============================] - 0s 6ms/step - loss: 0.3748 - accuracy: 0.8182\n",
            "Epoch 106/150\n",
            "8/8 [==============================] - 0s 5ms/step - loss: 0.3635 - accuracy: 0.8388\n",
            "Epoch 107/150\n",
            "8/8 [==============================] - 0s 5ms/step - loss: 0.3742 - accuracy: 0.8347\n",
            "Epoch 108/150\n",
            "8/8 [==============================] - 0s 5ms/step - loss: 0.3714 - accuracy: 0.8306\n",
            "Epoch 109/150\n",
            "8/8 [==============================] - 0s 5ms/step - loss: 0.3637 - accuracy: 0.8430\n",
            "Epoch 110/150\n",
            "8/8 [==============================] - 0s 5ms/step - loss: 0.3677 - accuracy: 0.8264\n",
            "Epoch 111/150\n",
            "8/8 [==============================] - 0s 5ms/step - loss: 0.3684 - accuracy: 0.8512\n",
            "Epoch 112/150\n",
            "8/8 [==============================] - 0s 5ms/step - loss: 0.3725 - accuracy: 0.8306\n",
            "Epoch 113/150\n",
            "8/8 [==============================] - 0s 5ms/step - loss: 0.3791 - accuracy: 0.8223\n",
            "Epoch 114/150\n",
            "8/8 [==============================] - 0s 5ms/step - loss: 0.3673 - accuracy: 0.8306\n",
            "Epoch 115/150\n",
            "8/8 [==============================] - 0s 5ms/step - loss: 0.3698 - accuracy: 0.8182\n",
            "Epoch 116/150\n",
            "8/8 [==============================] - 0s 5ms/step - loss: 0.3732 - accuracy: 0.8264\n",
            "Epoch 117/150\n",
            "8/8 [==============================] - 0s 5ms/step - loss: 0.3693 - accuracy: 0.8347\n",
            "Epoch 118/150\n",
            "8/8 [==============================] - 0s 5ms/step - loss: 0.3872 - accuracy: 0.8471\n",
            "Epoch 119/150\n",
            "8/8 [==============================] - 0s 5ms/step - loss: 0.3556 - accuracy: 0.8264\n",
            "Epoch 120/150\n",
            "8/8 [==============================] - 0s 6ms/step - loss: 0.3635 - accuracy: 0.8347\n",
            "Epoch 121/150\n",
            "8/8 [==============================] - 0s 5ms/step - loss: 0.3808 - accuracy: 0.8388\n",
            "Epoch 122/150\n",
            "8/8 [==============================] - 0s 5ms/step - loss: 0.3654 - accuracy: 0.8554\n",
            "Epoch 123/150\n",
            "8/8 [==============================] - 0s 5ms/step - loss: 0.3551 - accuracy: 0.8512\n",
            "Epoch 124/150\n",
            "8/8 [==============================] - 0s 5ms/step - loss: 0.3674 - accuracy: 0.8264\n",
            "Epoch 125/150\n",
            "8/8 [==============================] - 0s 5ms/step - loss: 0.3510 - accuracy: 0.8388\n",
            "Epoch 126/150\n",
            "8/8 [==============================] - 0s 5ms/step - loss: 0.3691 - accuracy: 0.8347\n",
            "Epoch 127/150\n",
            "8/8 [==============================] - 0s 5ms/step - loss: 0.3682 - accuracy: 0.8182\n",
            "Epoch 128/150\n",
            "8/8 [==============================] - 0s 5ms/step - loss: 0.3554 - accuracy: 0.8554\n",
            "Epoch 129/150\n",
            "8/8 [==============================] - 0s 5ms/step - loss: 0.3568 - accuracy: 0.8388\n",
            "Epoch 130/150\n",
            "8/8 [==============================] - 0s 6ms/step - loss: 0.3484 - accuracy: 0.8347\n",
            "Epoch 131/150\n",
            "8/8 [==============================] - 0s 5ms/step - loss: 0.3801 - accuracy: 0.8099\n",
            "Epoch 132/150\n",
            "8/8 [==============================] - 0s 5ms/step - loss: 0.3709 - accuracy: 0.8347\n",
            "Epoch 133/150\n",
            "8/8 [==============================] - 0s 6ms/step - loss: 0.3522 - accuracy: 0.8471\n",
            "Epoch 134/150\n",
            "8/8 [==============================] - 0s 6ms/step - loss: 0.3792 - accuracy: 0.8430\n",
            "Epoch 135/150\n",
            "8/8 [==============================] - 0s 6ms/step - loss: 0.3557 - accuracy: 0.8471\n",
            "Epoch 136/150\n",
            "8/8 [==============================] - 0s 5ms/step - loss: 0.3773 - accuracy: 0.8058\n",
            "Epoch 137/150\n",
            "8/8 [==============================] - 0s 5ms/step - loss: 0.3843 - accuracy: 0.8264\n",
            "Epoch 138/150\n",
            "8/8 [==============================] - 0s 6ms/step - loss: 0.3617 - accuracy: 0.8430\n",
            "Epoch 139/150\n",
            "8/8 [==============================] - 0s 5ms/step - loss: 0.3573 - accuracy: 0.8636\n",
            "Epoch 140/150\n",
            "8/8 [==============================] - 0s 5ms/step - loss: 0.3761 - accuracy: 0.8264\n",
            "Epoch 141/150\n",
            "8/8 [==============================] - 0s 5ms/step - loss: 0.3621 - accuracy: 0.8306\n",
            "Epoch 142/150\n",
            "8/8 [==============================] - 0s 5ms/step - loss: 0.3647 - accuracy: 0.8430\n",
            "Epoch 143/150\n",
            "8/8 [==============================] - 0s 5ms/step - loss: 0.3538 - accuracy: 0.8471\n",
            "Epoch 144/150\n",
            "8/8 [==============================] - 0s 5ms/step - loss: 0.3656 - accuracy: 0.8306\n",
            "Epoch 145/150\n",
            "8/8 [==============================] - 0s 5ms/step - loss: 0.3701 - accuracy: 0.8471\n",
            "Epoch 146/150\n",
            "8/8 [==============================] - 0s 4ms/step - loss: 0.3651 - accuracy: 0.8388\n",
            "Epoch 147/150\n",
            "8/8 [==============================] - 0s 5ms/step - loss: 0.3717 - accuracy: 0.8471\n",
            "Epoch 148/150\n",
            "8/8 [==============================] - 0s 4ms/step - loss: 0.3650 - accuracy: 0.8264\n",
            "Epoch 149/150\n",
            "8/8 [==============================] - 0s 4ms/step - loss: 0.3644 - accuracy: 0.8264\n",
            "Epoch 150/150\n",
            "8/8 [==============================] - 0s 4ms/step - loss: 0.3567 - accuracy: 0.8430\n"
          ]
        },
        {
          "output_type": "execute_result",
          "data": {
            "text/plain": [
              "<keras.src.callbacks.History at 0x79c17010da20>"
            ]
          },
          "metadata": {},
          "execution_count": 108
        }
      ]
    },
    {
      "cell_type": "code",
      "source": [
        "model_nn.evaluate(X_train,Y_train)"
      ],
      "metadata": {
        "colab": {
          "base_uri": "https://localhost:8080/"
        },
        "id": "_XGx2UefVj9c",
        "outputId": "bfee82b3-fc26-480a-adeb-a9c439c07ef7"
      },
      "execution_count": null,
      "outputs": [
        {
          "output_type": "stream",
          "name": "stdout",
          "text": [
            "8/8 [==============================] - 0s 4ms/step - loss: 0.4249 - accuracy: 0.7893\n"
          ]
        },
        {
          "output_type": "execute_result",
          "data": {
            "text/plain": [
              "[0.42490094900131226, 0.78925621509552]"
            ]
          },
          "metadata": {},
          "execution_count": 109
        }
      ]
    },
    {
      "cell_type": "code",
      "source": [
        "model_nn.evaluate(X_test,Y_test)"
      ],
      "metadata": {
        "colab": {
          "base_uri": "https://localhost:8080/"
        },
        "id": "PbVg-U29Vt-g",
        "outputId": "7e0d920e-61f0-42a5-8b93-d7b4ca3036b7"
      },
      "execution_count": null,
      "outputs": [
        {
          "output_type": "stream",
          "name": "stdout",
          "text": [
            "2/2 [==============================] - 0s 10ms/step - loss: 0.5420 - accuracy: 0.8033\n"
          ]
        },
        {
          "output_type": "execute_result",
          "data": {
            "text/plain": [
              "[0.5420130491256714, 0.8032786846160889]"
            ]
          },
          "metadata": {},
          "execution_count": 110
        }
      ]
    },
    {
      "cell_type": "code",
      "source": [
        "Y_pred_nn = model_nn.predict(X_test)"
      ],
      "metadata": {
        "id": "Us0kqG4wAyl2",
        "colab": {
          "base_uri": "https://localhost:8080/"
        },
        "outputId": "11cf19e8-8631-426a-bdd6-66390e3a4622"
      },
      "execution_count": null,
      "outputs": [
        {
          "output_type": "stream",
          "name": "stdout",
          "text": [
            "2/2 [==============================] - 0s 4ms/step\n"
          ]
        }
      ]
    },
    {
      "cell_type": "code",
      "source": [
        "Y_pred_nn.shape"
      ],
      "metadata": {
        "id": "BJF7zXdUAy6w",
        "colab": {
          "base_uri": "https://localhost:8080/"
        },
        "outputId": "13b1d83e-db28-4942-cba1-0166f740303f"
      },
      "execution_count": null,
      "outputs": [
        {
          "output_type": "execute_result",
          "data": {
            "text/plain": [
              "(61, 1)"
            ]
          },
          "metadata": {},
          "execution_count": 103
        }
      ]
    },
    {
      "cell_type": "code",
      "source": [
        "rounded = [round(x[0]) for x in Y_pred_nn]\n",
        "\n",
        "Y_pred_nn = rounded"
      ],
      "metadata": {
        "id": "QM_uxPMWAzOy"
      },
      "execution_count": null,
      "outputs": []
    },
    {
      "cell_type": "code",
      "source": [
        "score_nn = round(accuracy_score(Y_pred_nn,Y_test)*100,2)\n",
        "\n",
        "print(\"The accuracy score achieved using Neural Network is: \"+str(score_nn)+\" %\")\n",
        "\n",
        "#Note: Accuracy of 85% can be achieved on the test set, by setting epochs=2000, and number of nodes = 11."
      ],
      "metadata": {
        "id": "adzYslHdBI9b",
        "colab": {
          "base_uri": "https://localhost:8080/"
        },
        "outputId": "ffea5b95-0394-4bb1-8e62-189470a3d380"
      },
      "execution_count": null,
      "outputs": [
        {
          "output_type": "stream",
          "name": "stdout",
          "text": [
            "The accuracy score achieved using Neural Network is: 80.33 %\n"
          ]
        }
      ]
    },
    {
      "cell_type": "markdown",
      "source": [
        "The accuracy score achieved using Neural Network is: 80.33 %"
      ],
      "metadata": {
        "id": "LyV40b8fRLxw"
      }
    },
    {
      "cell_type": "markdown",
      "source": [
        "**Output final score**"
      ],
      "metadata": {
        "id": "zygtdI-lRPXO"
      }
    },
    {
      "cell_type": "code",
      "source": [
        "scores = [score_lr,score_nb,score_svm,score_knn,score_dt,score_rf,score_xgb,score_nn]\n",
        "algorithms = [\"Logistic Regression\",\"Naive Bayes\",\"Support Vector Machine\",\"K-Nearest Neighbors\",\"Decision Tree\",\"Random Forest\",\"XGBoost\",\"Neural Network\"]\n",
        "\n",
        "for i in range(len(algorithms)):\n",
        "    print(\"The accuracy score achieved using \"+algorithms[i]+\" is: \"+str(scores[i])+\" %\")"
      ],
      "metadata": {
        "id": "jK0L-2ShBJRM"
      },
      "execution_count": null,
      "outputs": []
    },
    {
      "cell_type": "code",
      "source": [
        "sns.set(rc={'figure.figsize':(15,8)})\n",
        "plt.xlabel(\"Algorithms\")\n",
        "plt.ylabel(\"Accuracy score\")\n",
        "\n",
        "sns.barplot(x=algorithms,y=scores)"
      ],
      "metadata": {
        "id": "0ku8EO5VBXc6"
      },
      "execution_count": null,
      "outputs": []
    },
    {
      "cell_type": "code",
      "source": [],
      "metadata": {
        "id": "ZDSQFjD1BXx3"
      },
      "execution_count": null,
      "outputs": []
    },
    {
      "cell_type": "code",
      "source": [],
      "metadata": {
        "id": "Ihwk_TtmBJ22"
      },
      "execution_count": null,
      "outputs": []
    },
    {
      "cell_type": "code",
      "source": [],
      "metadata": {
        "id": "Jl06yuz-BKNB"
      },
      "execution_count": null,
      "outputs": []
    }
  ]
}